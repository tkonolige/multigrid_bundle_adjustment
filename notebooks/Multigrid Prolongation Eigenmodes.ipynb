{
 "cells": [
  {
   "cell_type": "code",
   "execution_count": 1,
   "metadata": {},
   "outputs": [
    {
     "name": "stderr",
     "output_type": "stream",
     "text": [
      "┌ Info: Recompiling stale cache file /Users/tristan/.julia/compiled/v1.1/Makie/iZ1Bl.ji for Makie [ee78f7c6-11fb-53f2-987a-cfe4a2b5a57a]\n",
      "└ @ Base loading.jl:1184\n",
      "┌ Info: Recompiling stale cache file /Users/tristan/.julia/compiled/v1.1/LightGraphs/Xm08G.ji for LightGraphs [093fc24a-ae57-5d10-9952-331d41423f4d]\n",
      "└ @ Base loading.jl:1184\n",
      "┌ Info: Recompiling stale cache file /Users/tristan/.julia/compiled/v1.1/BALUtils/NXPkz.ji for BALUtils [0905a5ce-360c-11e9-2081-2954d989a4fb]\n",
      "└ @ Base loading.jl:1184\n",
      "┌ Info: Recompiling stale cache file /Users/tristan/.julia/compiled/v1.1/PETScBinaryIO/0UAFf.ji for PETScBinaryIO [437dea2e-de0d-11e8-31df-ef70b35f8dd5]\n",
      "└ @ Base loading.jl:1184\n"
     ]
    },
    {
     "data": {
      "text/plain": [
       "linesegments_eigen! (generic function with 1 method)"
      ]
     },
     "execution_count": 1,
     "metadata": {},
     "output_type": "execute_result"
    }
   ],
   "source": [
    "include(\"../vis/vis.jl\")"
   ]
  },
  {
   "cell_type": "code",
   "execution_count": 2,
   "metadata": {},
   "outputs": [
    {
     "data": {
      "text/plain": [
       "Bundle adjustment problem with 1723 cameras, 156502 points, 678718 observations with 230 eigenvalues"
      ]
     },
     "execution_count": 2,
     "metadata": {},
     "output_type": "execute_result"
    }
   ],
   "source": [
    "ba_affinity = load_ba(\"../bal-data/ladybug/problem-1723-156502-pre.txt\", \"../../multigrid_analysis/ladybug-2lvl-eigs-affinity.h5\", \"../ba-tao/ladybug-1723-S-scale.petsc\", \"../bamg/ladybug-2lvl-P-affinity.petsc\", 1)\n",
    "ba_visibility = load_ba(\"../bal-data/ladybug/problem-1723-156502-pre.txt\", \"../../multigrid_analysis/ladybug-2lvl-eigs-visibility.h5\", \"../ba-tao/ladybug-1723-S-scale.petsc\", \"../bamg/ladybug-2lvl-P-visibility.petsc\", 1)"
   ]
  },
  {
   "cell_type": "code",
   "execution_count": 3,
   "metadata": {},
   "outputs": [
    {
     "data": {
      "text/plain": [
       "9×1723 Array{Float64,2}:\n",
       " 0.0  0.0  0.0  0.0  0.0   1.02407e-6  …   5.2831e-5   -0.000304293\n",
       " 0.0  0.0  0.0  0.0  0.0  -1.68747e-6     -1.49928e-5  -1.0582e-6  \n",
       " 0.0  0.0  0.0  0.0  0.0  -1.44445e-8      7.75103e-5  -0.000177238\n",
       " 0.0  0.0  0.0  0.0  0.0   9.38872e-7      3.46928e-5  -0.00016491 \n",
       " 0.0  0.0  0.0  0.0  0.0   2.70201e-7      2.08741e-5  -0.000192259\n",
       " 0.0  0.0  0.0  0.0  0.0   2.88645e-6  …  -3.02186e-6   0.000534114\n",
       " 0.0  0.0  0.0  0.0  0.0  -7.28013e-6     -2.83975e-5   0.000158904\n",
       " 0.0  0.0  0.0  0.0  0.0   5.91887e-6      4.99294e-5  -5.47499e-5 \n",
       " 0.0  0.0  0.0  0.0  0.0  -4.24256e-6     -2.34257e-5   5.25844e-5 "
      ]
     },
     "execution_count": 3,
     "metadata": {},
     "output_type": "execute_result"
    }
   ],
   "source": [
    "collect(ba_affinity.cr_eigs)[1][2]"
   ]
  },
  {
   "cell_type": "code",
   "execution_count": 4,
   "metadata": {},
   "outputs": [
    {
     "data": {
      "text/plain": [
       "\"Eigenvalue: 0.00010000591204629941\""
      ]
     },
     "metadata": {},
     "output_type": "display_data"
    },
    {
     "data": {
      "image/png": "[encoded data removed]",
      "text/plain": [
       "Scene (960px, 540px):\n",
       "events:\n",
       "    window_area: HyperRectangle{2,Int64}([0, 0], [0, 0])\n",
       "    window_dpi: 100.0\n",
       "    window_open: false\n",
       "    mousebuttons: Set(AbstractPlotting.Mouse.Button[])\n",
       "    mouseposition: (0.0, 0.0)\n",
       "    mousedrag: notpressed\n",
       "    scroll: (0.0, 0.0)\n",
       "    keyboardbuttons: Set(AbstractPlotting.Keyboard.Button[])\n",
       "    unicode_input: Char[]\n",
       "    dropped_files: String[]\n",
       "    hasfocus: false\n",
       "    entered_window: false\n",
       "plots:\n",
       "   *Scatter{...}\n",
       "   *LineSegments{...}\n",
       "   *LineSegments{...}\n",
       "subscenes:"
      ]
     },
     "execution_count": 4,
     "metadata": {},
     "output_type": "execute_result"
    }
   ],
   "source": [
    "index = 1\n",
    "ba = ba_visibility\n",
    "es = collect(ba.cr_eigs)[index]\n",
    "display(\"Eigenvalue: $(es[1])\")\n",
    "s = Scene()\n",
    "scatter_eigen!(s, ba, index)\n",
    "s"
   ]
  },
  {
   "cell_type": "code",
   "execution_count": 5,
   "metadata": {},
   "outputs": [
    {
     "ename": "MethodError",
     "evalue": "MethodError: no method matching restrict(::BA, ::Array{Int64,1}; ignore_points=false)\nClosest candidates are:\n  restrict(!Matched::BAProblem, ::Any; ignore_points) at /Users/tristan/Sync/Research/bundle_adjustment/vis/vis.jl:69",
     "output_type": "error",
     "traceback": [
      "MethodError: no method matching restrict(::BA, ::Array{Int64,1}; ignore_points=false)\nClosest candidates are:\n  restrict(!Matched::BAProblem, ::Any; ignore_points) at /Users/tristan/Sync/Research/bundle_adjustment/vis/vis.jl:69",
      "",
      "Stacktrace:",
      " [1] #restrict#10(::Bool, ::Function, ::BAProblem, ::Array{Int64,1}) at /Users/tristan/Sync/Research/bundle_adjustment/vis/vis.jl:69",
      " [2] (::getfield(Main, Symbol(\"#kw##restrict\")))(::NamedTuple{(:ignore_points,),Tuple{Bool}}, ::typeof(restrict), ::BAProblem, ::Array{Int64,1}) at ./none:0",
      " [3] top-level scope at In[5]:4"
     ]
    }
   ],
   "source": [
    "norms = mapslices(norm, es[2], dims=1)[:]\n",
    "p = sortperm(norms, rev=true)[1:2]\n",
    "s = Scene()\n",
    "ba_res = restrict(ba, p; ignore_points=false)\n",
    "display(\"Observations before restricting\")\n",
    "display(length.(ba.ba.observations[p]))\n",
    "display(\"Observations after restricting\")\n",
    "display(length.(ba_res.ba.observations))\n",
    "scatter_eigen!(s, ba_res, index)\n",
    "scatter!(s, ba.ba.points, color=RGBA(0.0,0.0,0.0,0.1), transparency=true, markersize=0.04, show_axis=false)\n",
    "scatter!(s, ba_res.ba.points, color=:red, transparency=true, markersize=0.04, show_axis=false)\n",
    "draw_observations!(s, ba_res.ba, transparency=true, show_axis=false)\n",
    "s"
   ]
  },
  {
   "cell_type": "code",
   "execution_count": 6,
   "metadata": {},
   "outputs": [
    {
     "data": {
      "text/plain": [
       "\"Eigenvector norms and aggregate id\""
      ]
     },
     "metadata": {},
     "output_type": "display_data"
    },
    {
     "data": {
      "text/plain": [
       "10-element Array{Tuple{Float64,Int64},1}:\n",
       " (0.7079376829692495, 270)    \n",
       " (0.7062562884855569, 270)    \n",
       " (0.0050035197716171926, 270) \n",
       " (0.00048407075381014556, 270)\n",
       " (0.00047235695592190517, 270)\n",
       " (0.00047199651080906933, 270)\n",
       " (0.0004589811902526218, 270) \n",
       " (0.0004054039938161655, 270) \n",
       " (0.0003306683340915775, 269) \n",
       " (0.00019219836897625244, 269)"
      ]
     },
     "metadata": {},
     "output_type": "display_data"
    },
    {
     "data": {
      "text/plain": [
       "\"Highest magnitude components of eigenmode\""
      ]
     },
     "metadata": {},
     "output_type": "display_data"
    },
    {
     "data": {
      "text/plain": [
       "9×10 Array{Float64,2}:\n",
       "  0.100872     -0.102463      0.00138831   …  -7.03752e-5   -5.9593e-6  \n",
       "  0.578102     -0.577597      0.000749995     -0.000236649   0.00012517 \n",
       " -0.0666311     0.0660752     0.00123393       9.71449e-5    4.01786e-5 \n",
       "  0.233675     -0.230396     -0.00270071      -0.000106333   3.31925e-5 \n",
       " -0.151183      0.15453      -0.00348888       8.92701e-5   -1.27122e-5 \n",
       " -0.273674      0.270838      0.00124563   …   0.000126764  -0.000133536\n",
       "  0.000324304  -0.000154205  -2.07205e-5      -1.69773e-5    2.07533e-5 \n",
       " -0.00100029    0.000470014   6.04174e-5       5.0782e-5    -4.03416e-6 \n",
       "  0.000437918  -0.000204315  -3.04014e-5      -2.71467e-5    8.9816e-6  "
      ]
     },
     "metadata": {},
     "output_type": "display_data"
    },
    {
     "data": {
      "text/plain": [
       "10×10 Array{Int64,2}:\n",
       " 315  233  220  231  232  226  223  236  225   83\n",
       " 233  318  246  240  246  232  231  233  221   81\n",
       " 220  246  313  240  240  231  226  221  229   86\n",
       " 231  240  240  306  245  240  233  232  227   78\n",
       " 232  246  240  245  323  244  232  239  228   84\n",
       " 226  232  231  240  244  321  238  230  231   88\n",
       " 223  231  226  233  232  238  327  231  226   92\n",
       " 236  233  221  232  239  230  231  341  230   85\n",
       " 225  221  229  227  228  231  226  230  308   79\n",
       "  83   81   86   78   84   88   92   85   79  240"
      ]
     },
     "metadata": {},
     "output_type": "display_data"
    },
    {
     "data": {
      "image/png": "[encoded data removed]",
      "text/plain": [
       "Scene (960px, 540px):\n",
       "events:\n",
       "    window_area: HyperRectangle{2,Int64}([0, 0], [0, 0])\n",
       "    window_dpi: 100.0\n",
       "    window_open: false\n",
       "    mousebuttons: Set(AbstractPlotting.Mouse.Button[])\n",
       "    mouseposition: (0.0, 0.0)\n",
       "    mousedrag: notpressed\n",
       "    scroll: (0.0, 0.0)\n",
       "    keyboardbuttons: Set(AbstractPlotting.Keyboard.Button[])\n",
       "    unicode_input: Char[]\n",
       "    dropped_files: String[]\n",
       "    hasfocus: false\n",
       "    entered_window: false\n",
       "plots:\n",
       "   *Axis2D{...}\n",
       "   *Lines{...}\n",
       "subscenes:\n",
       "   *scene(960px, 540px)"
      ]
     },
     "execution_count": 6,
     "metadata": {},
     "output_type": "execute_result"
    }
   ],
   "source": [
    "norms = mapslices(norm, es[2], dims=1)[:]\n",
    "p = sortperm(norms, rev=true)[1:10]\n",
    "display(\"Eigenvector norms and aggregate id\")\n",
    "display(collect(zip(norms[p], ba.aggregates[p])))\n",
    "display(\"Highest magnitude components of eigenmode\")\n",
    "display(es[2][:, p])\n",
    "vg = visibility_graph(ba.ba)\n",
    "display(Array(vg[p,p]))\n",
    "vg_ = copy(vg)\n",
    "vg_[diagind(vg_)] .= 0\n",
    "_,_,ks = findnz(vg_)\n",
    "lines(sort(ks))"
   ]
  },
  {
   "cell_type": "code",
   "execution_count": 7,
   "metadata": {},
   "outputs": [
    {
     "data": {
      "text/plain": [
       "206"
      ]
     },
     "execution_count": 7,
     "metadata": {},
     "output_type": "execute_result"
    }
   ],
   "source": [
    "# number of eigenmodes where highest values appear in the same aggregate\n",
    "map(1:length(ba.cr_eigs)) do index\n",
    "    ba = ba_visibility\n",
    "    es = collect(ba.cr_eigs)[index]\n",
    "    norms = mapslices(norm, es[2], dims=1)[:]\n",
    "    p = sortperm(norms, rev=true)[1:2]\n",
    "    length(unique(ba.aggregates[p])) == 1\n",
    "end |> count"
   ]
  }
 ],
 "metadata": {
  "kernelspec": {
   "display_name": "Julia 1.1.0",
   "language": "julia",
   "name": "julia-1.1"
  },
  "language_info": {
   "file_extension": ".jl",
   "mimetype": "application/julia",
   "name": "julia",
   "version": "1.1.0"
  }
 },
 "nbformat": 4,
 "nbformat_minor": 2
}
