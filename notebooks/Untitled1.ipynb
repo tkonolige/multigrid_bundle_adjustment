{
 "cells": [
  {
   "cell_type": "code",
   "execution_count": 14,
   "metadata": {},
   "outputs": [],
   "source": [
    "import sys\n",
    "sys.path.append(\"/Users/tristan/Build/petsc/lib/petsc/bin\")\n",
    "from pyamg import *\n",
    "from PetscBinaryIO import PetscBinaryIO\n",
    "import h5py\n",
    "import scipy as sp\n",
    "from scipy.sparse import *"
   ]
  },
  {
   "cell_type": "code",
   "execution_count": 16,
   "metadata": {},
   "outputs": [],
   "source": [
    "io = PetscBinaryIO()\n",
    "S = io.readBinaryFile(\"../ba-tao/ladybug-1723-S.petsc\", mattype=\"scipy.sparse\")[0]\n",
    "S = bsr_matrix(S, blocksize=(9,9))\n",
    "rhs = io.readBinaryFile(\"../ba-tao/ladybug-1723-S-rhs.petsc\")[0]"
   ]
  },
  {
   "cell_type": "code",
   "execution_count": 20,
   "metadata": {},
   "outputs": [
    {
     "name": "stdout",
     "output_type": "stream",
     "text": [
      "multilevel_solver\n",
      "Number of Levels:     3\n",
      "Operator Complexity:  1.000\n",
      "Grid Complexity:      1.007\n",
      "Coarse Solver:        'pinv2'\n",
      "  level   unknowns     nonzeros\n",
      "    0        15507     19222677 [99.95%]\n",
      "    1           99         9153 [ 0.05%]\n",
      "    2            9           81 [ 0.00%]\n",
      "\n",
      "204 iterations, detla: 9.602713267682027e-09\n"
     ]
    }
   ],
   "source": [
    "sa = smoothed_aggregation_solver(S)\n",
    "print(sa)\n",
    "residuals = []\n",
    "sa.solve(rhs, residuals=residuals, accel=\"cg\", maxiter=800, tol=1e-8)\n",
    "print(\"{} iterations, detla: {}\".format(len(residuals), residuals[-1]/residuals[0]))"
   ]
  },
  {
   "cell_type": "code",
   "execution_count": 44,
   "metadata": {},
   "outputs": [
    {
     "name": "stdout",
     "output_type": "stream",
     "text": [
      "multilevel_solver\n",
      "Number of Levels:     3\n",
      "Operator Complexity:  1.000\n",
      "Grid Complexity:      1.007\n",
      "Coarse Solver:        'pinv2'\n",
      "  level   unknowns     nonzeros\n",
      "    0        15507     19222677 [99.95%]\n",
      "    1           99         9153 [ 0.05%]\n",
      "    2            9           81 [ 0.00%]\n",
      "\n",
      "173 iterations, detla: 9.283557878675238e-09\n"
     ]
    }
   ],
   "source": [
    "l = []\n",
    "with(h5py.File('../sba_multigrid/ladybug-1723-S-smallest-0.h5', 'r')) as f:\n",
    "    for i in range(0,9):\n",
    "        l.append(np.array(f['eigenvector'+str(i)]).flatten())\n",
    "B = np.vstack(l).transpose()\n",
    "sa = smoothed_aggregation_solver(S, B)\n",
    "print(sa)\n",
    "sa.solve(rhs, residuals=residuals, accel=\"cg\", maxiter=800, tol=1e-8)\n",
    "print(\"{} iterations, detla: {}\".format(len(residuals), residuals[-1]/residuals[0]))"
   ]
  },
  {
   "cell_type": "code",
   "execution_count": 51,
   "metadata": {},
   "outputs": [
    {
     "name": "stdout",
     "output_type": "stream",
     "text": [
      "multilevel_solver\n",
      "Number of Levels:     3\n",
      "Operator Complexity:  1.012\n",
      "Grid Complexity:      1.034\n",
      "Coarse Solver:        'pinv2'\n",
      "  level   unknowns     nonzeros\n",
      "    0        15507     19222677 [98.82%]\n",
      "    1          486       227286 [ 1.17%]\n",
      "    2           36         1296 [ 0.01%]\n",
      "\n",
      "81 iterations, detla: 9.974450249544595e-09\n"
     ]
    }
   ],
   "source": [
    "l = []\n",
    "with(h5py.File('../sba_multigrid/ladybug-1723-SP-smallest-0.h5', 'r')) as f:\n",
    "    for i in range(0,9):\n",
    "        l.append(np.array(f['eigenvector'+str(i)]).flatten())\n",
    "B = np.vstack(l).transpose()\n",
    "sa = smoothed_aggregation_solver(S, B, strength=\"evolution\")\n",
    "print(sa)\n",
    "sa.solve(rhs, residuals=residuals, accel=\"cg\", maxiter=800, tol=1e-8)\n",
    "print(\"{} iterations, detla: {}\".format(len(residuals), residuals[-1]/residuals[0]))"
   ]
  },
  {
   "cell_type": "code",
   "execution_count": 48,
   "metadata": {},
   "outputs": [
    {
     "name": "stdout",
     "output_type": "stream",
     "text": [
      "multilevel_solver\n",
      "Number of Levels:     3\n",
      "Operator Complexity:  1.000\n",
      "Grid Complexity:      1.007\n",
      "Coarse Solver:        'pinv2'\n",
      "  level   unknowns     nonzeros\n",
      "    0        15507     19222677 [99.95%]\n",
      "    1           99         9153 [ 0.05%]\n",
      "    2            9           81 [ 0.00%]\n",
      "\n",
      "194 iterations, detla: 9.682751701104587e-09\n"
     ]
    }
   ],
   "source": [
    "l = []\n",
    "with(h5py.File('../sba_multigrid/ladybug-1723-H-smallest-0.h5', 'r')) as f:\n",
    "    for i in range(0,9):\n",
    "        l.append(np.array(f['eigenvector'+str(i)]).flatten())\n",
    "B = np.vstack(l).transpose()[0:1723*9,:]\n",
    "sa = smoothed_aggregation_solver(S, B)\n",
    "print(sa)\n",
    "sa.solve(rhs, residuals=residuals, accel=\"cg\", maxiter=800, tol=1e-8)\n",
    "print(\"{} iterations, detla: {}\".format(len(residuals), residuals[-1]/residuals[0]))"
   ]
  },
  {
   "cell_type": "code",
   "execution_count": 61,
   "metadata": {},
   "outputs": [
    {
     "name": "stdout",
     "output_type": "stream",
     "text": [
      "H\n",
      "[1.03159479e-21 1.51797135e-12 1.20235883e-08 8.86130819e-07\n",
      " 2.22837840e-06 5.16155510e-05 1.22928158e-04 2.77303005e-04]\n",
      "S scaled, no diag\n",
      "[ 2.57217680e-16 -2.80222118e-16 -3.69134662e-16  4.36126988e-16\n",
      "  5.33349175e-16  6.04716884e-16 -6.08063029e-16  6.57249303e-16\n",
      " -7.58732858e-16  7.71062486e-16  8.80512744e-16 -1.03496573e-15\n",
      "  1.11687088e-15 -1.14415027e-15 -1.24673547e-15 -1.59052517e-15\n",
      "  1.70953076e-15  1.76521201e-15  1.81237801e-15  2.27122638e-15\n",
      "  3.21032609e-15  4.35957859e-15  6.75064800e-15  1.08718713e-14\n",
      " -1.25755024e-14  1.43624713e-14  3.06346509e-14  3.78038499e-14\n",
      "  8.81852607e-14 -1.42892741e-13  2.77249056e-13  3.93208664e-13\n",
      " -4.42129955e-13  5.68481059e-13  6.39427937e-13  8.13514992e-13\n",
      " -8.92656484e-13  1.20759027e-12  2.60367378e-12  2.92454709e-12\n",
      "  4.30094186e-12  4.80763120e-12  9.97226460e-12 -1.21240401e-11\n",
      "  1.69928736e-11  1.72876282e-11  1.90760546e-11  2.06484817e-11\n",
      "  4.86819901e-11  5.33235678e-11  6.17190973e-11  7.38170252e-11\n",
      "  9.98609522e-11  1.25456363e-10  1.76832270e-10  1.98059384e-10\n",
      "  2.07741984e-10 -2.30064892e-10  2.73930176e-10  3.09189175e-10\n",
      "  3.18464998e-10  3.25036993e-10  4.25344033e-10 -4.52960535e-10\n",
      "  5.11554727e-10  5.66502894e-10  6.02863000e-10  6.99977564e-10\n",
      "  7.54813958e-10 -9.88645125e-10 -1.06898709e-09  1.41310420e-09\n",
      "  1.55086455e-09  1.69637379e-09  1.77697559e-09  2.18531602e-09\n",
      "  2.47812590e-09  2.75508268e-09  3.77476984e-09  4.70706144e-09\n",
      "  5.15338713e-09  6.02842919e-09  6.40106107e-09  6.58681409e-09\n",
      "  6.89049492e-09 -7.91053523e-09  8.66200517e-09 -9.04792388e-09\n",
      "  1.04630724e-08  1.10409749e-08  1.17469093e-08  1.29084148e-08\n",
      "  1.36783915e-08  1.52225244e-08  1.53348076e-08  1.58399393e-08\n",
      "  1.78809602e-08  1.93631302e-08  2.22634146e-08  2.50549426e-08]\n",
      "S scaled, diag\n",
      "[9.99900010e-05 9.99900010e-05 9.99900010e-05 9.99900010e-05\n",
      " 9.99900010e-05 9.99900010e-05 9.99900010e-05 9.99900011e-05\n",
      " 9.99900011e-05 9.99900012e-05 9.99900015e-05 9.99900015e-05\n",
      " 9.99900017e-05 9.99900022e-05 9.99900025e-05 9.99900027e-05\n",
      " 9.99900042e-05 9.99900052e-05 9.99900125e-05 9.99900141e-05\n",
      " 9.99900162e-05 9.99900198e-05 9.99900203e-05 9.99900252e-05\n",
      " 9.99900261e-05 9.99900636e-05 9.99900728e-05 9.99901575e-05\n",
      " 9.99901805e-05 9.99902563e-05 9.99903248e-05 9.99903682e-05\n",
      " 9.99904266e-05 9.99904766e-05 9.99905333e-05 9.99905439e-05\n",
      " 9.99908228e-05 9.99912292e-05 9.99912795e-05 9.99912880e-05\n",
      " 9.99916256e-05 9.99922571e-05 9.99928934e-05 9.99938900e-05\n",
      " 9.99939198e-05 9.99942329e-05 9.99948448e-05 9.99951758e-05\n",
      " 9.99971553e-05 9.99988905e-05]\n"
     ]
    }
   ],
   "source": [
    "print(\"H\")\n",
    "print(np.array(h5py.File('../sba_multigrid/ladybug-1723-H-smallest-0.h5', 'r')['eigenvalues'])[0:8])\n",
    "print(\"S scaled, no diag\")\n",
    "print(np.array(h5py.File('../sba_multigrid/ladybug-1723-SP-smallest-0.h5', 'r')['eigenvalues'])[0:100])\n",
    "print(\"S scaled, diag\")\n",
    "print(np.array(h5py.File('../sba_multigrid/ladybug-1723-S-smallest-0.h5', 'r')['eigenvalues'])[0:50])"
   ]
  }
 ],
 "metadata": {
  "kernelspec": {
   "display_name": "Python 3",
   "language": "python",
   "name": "python3"
  },
  "language_info": {
   "codemirror_mode": {
    "name": "ipython",
    "version": 3
   },
   "file_extension": ".py",
   "mimetype": "text/x-python",
   "name": "python",
   "nbconvert_exporter": "python",
   "pygments_lexer": "ipython3",
   "version": "3.7.3"
  }
 },
 "nbformat": 4,
 "nbformat_minor": 2
}
