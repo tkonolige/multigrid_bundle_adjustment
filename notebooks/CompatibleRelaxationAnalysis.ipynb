{
 "cells": [
  {
   "cell_type": "code",
   "execution_count": 1,
   "metadata": {},
   "outputs": [
    {
     "name": "stderr",
     "output_type": "stream",
     "text": [
      "┌ Warning: `@add_arg_table` is deprecated, use `@add_arg_table!` instead\n",
      "└ @ ArgParse In[1]:15\n"
     ]
    }
   ],
   "source": [
    "using PETScBinaryIO\n",
    "using HDF5\n",
    "using BALUtils\n",
    "using SparseArrays\n",
    "using bamg\n",
    "using Makie\n",
    "using AbstractPlotting\n",
    "using Rotations\n",
    "using RCall\n",
    "using DataFrames\n",
    "using Colors\n",
    "using Statistics\n",
    "using ColorSchemes\n",
    "include(\"../multigrid_analysis/P_to_S.jl\")\n",
    "include(\"../viz/ba_eigenmodes.jl\")"
   ]
  },
  {
   "cell_type": "code",
   "execution_count": 2,
   "metadata": {},
   "outputs": [
    {
     "data": {
      "text/plain": [
       "readmat (generic function with 1 method)"
      ]
     },
     "execution_count": 2,
     "metadata": {},
     "output_type": "execute_result"
    }
   ],
   "source": [
    "function readmat(filename, name)\n",
    "    sz = h5read(filename, \"$name/size\")\n",
    "    colptr = Int64.(h5read(filename, \"$name/jc\")) .+ 1\n",
    "    nzval = h5read(filename, \"$name/data\")\n",
    "    rowval = Int64.(h5read(filename, \"$name/ir\")) .+ 1\n",
    "    SparseMatrixCSC(sz..., colptr, rowval, nzval)\n",
    "end"
   ]
  },
  {
   "cell_type": "code",
   "execution_count": 3,
   "metadata": {},
   "outputs": [],
   "source": [
    "prob = \"4K_3K_20_inner_city.problem\"\n",
    "ba = readbal(\"../ba-problems/$prob/problem_noised.bbal\")\n",
    "iter = 10\n",
    "f = \"../ba-problems/$prob/default_dump.h5\"\n",
    "A = readmat(f, \"$iter/A\")\n",
    "P = readmat(f, \"$iter/P_1\")\n",
    "vis = readmat(f, \"0/visibility\")\n",
    "# permutation from ba ordering to ceres ordering\n",
    "s = h5read(f, \"1/poses\")\n",
    "v = vec.(ba.cameras)\n",
    "p = map(1:length(v)) do i\n",
    "    findfirst(x -> x == s[:,i], v)\n",
    "end\n",
    "vis2 = visibility_graph(ba)[p,p];"
   ]
  },
  {
   "cell_type": "code",
   "execution_count": 4,
   "metadata": {},
   "outputs": [
    {
     "name": "stdout",
     "output_type": "stream",
     "text": [
      "A: 44991 x 44991\n",
      "S: 44991 x 19791\n",
      "matrix created\n",
      "Mat Object: 1 MPI processes\n",
      "  type: seqaij\n",
      "  rows=19791, cols=19791\n",
      "  total: nonzeros=7598209, allocated nonzeros=7598209\n",
      "  total number of mallocs used during MatSetValues calls =0\n",
      "    using I-node routines: found 4726 nodes, limit used is 5\n",
      " Linear eigensolve converged (120 eigenpairs) due to CONVERGED_TOL; iterations 2\n",
      " Linear eigensolve converged (120 eigenpairs) due to CONVERGED_TOL; iterations 2\n",
      "# converged eigenvalues 120\n",
      "Eigenvalue 0:  1.6e-07 +  0.0e+00i\n",
      "Eigenvalue 1:  1.6e-07 +  0.0e+00i\n",
      "Eigenvalue 2:  1.6e-07 +  0.0e+00i\n",
      "Eigenvalue 3:  1.6e-07 +  0.0e+00i\n",
      "Eigenvalue 4:  1.6e-07 +  0.0e+00i\n",
      "Eigenvalue 5:  1.6e-07 +  0.0e+00i\n",
      "Eigenvalue 6:  1.6e-07 +  0.0e+00i\n",
      "Eigenvalue 7:  1.6e-07 +  0.0e+00i\n",
      "Eigenvalue 8:  1.6e-07 +  0.0e+00i\n",
      "Eigenvalue 9:  1.6e-07 +  0.0e+00i\n",
      "Eigenvalue 10:  1.6e-07 +  0.0e+00i\n",
      "Eigenvalue 11:  1.7e-07 +  0.0e+00i\n",
      "Eigenvalue 12:  1.7e-07 +  0.0e+00i\n",
      "Eigenvalue 13:  1.7e-07 +  0.0e+00i\n",
      "Eigenvalue 14:  1.7e-07 +  0.0e+00i\n",
      "Eigenvalue 15:  1.7e-07 +  0.0e+00i\n",
      "Eigenvalue 16:  1.8e-07 +  0.0e+00i\n",
      "Eigenvalue 17:  1.8e-07 +  0.0e+00i\n",
      "Eigenvalue 18:  1.8e-07 +  0.0e+00i\n",
      "Eigenvalue 19:  1.8e-07 +  0.0e+00i\n",
      "Eigenvalue 20:  1.9e-07 +  0.0e+00i\n",
      "Eigenvalue 21:  1.9e-07 +  0.0e+00i\n",
      "Eigenvalue 22:  1.9e-07 +  0.0e+00i\n",
      "Eigenvalue 23:  1.9e-07 +  0.0e+00i\n",
      "Eigenvalue 24:  1.9e-07 +  0.0e+00i\n",
      "Eigenvalue 25:  2.1e-07 +  0.0e+00i\n",
      "Eigenvalue 26:  2.1e-07 +  0.0e+00i\n",
      "Eigenvalue 27:  2.1e-07 +  0.0e+00i\n",
      "Eigenvalue 28:  2.1e-07 +  0.0e+00i\n",
      "Eigenvalue 29:  2.2e-07 +  0.0e+00i\n",
      "Eigenvalue 30:  2.2e-07 +  0.0e+00i\n",
      "Eigenvalue 31:  2.2e-07 +  0.0e+00i\n",
      "Eigenvalue 32:  2.3e-07 +  0.0e+00i\n",
      "Eigenvalue 33:  2.4e-07 +  0.0e+00i\n",
      "Eigenvalue 34:  2.4e-07 +  0.0e+00i\n",
      "Eigenvalue 35:  2.5e-07 +  0.0e+00i\n",
      "Eigenvalue 36:  2.6e-07 +  0.0e+00i\n",
      "Eigenvalue 37:  2.6e-07 +  0.0e+00i\n",
      "Eigenvalue 38:  2.6e-07 +  0.0e+00i\n",
      "Eigenvalue 39:  2.7e-07 +  0.0e+00i\n",
      "Eigenvalue 40:  2.8e-07 +  0.0e+00i\n",
      "Eigenvalue 41:  2.8e-07 +  0.0e+00i\n",
      "Eigenvalue 42:  2.9e-07 +  0.0e+00i\n",
      "Eigenvalue 43:  2.9e-07 +  0.0e+00i\n",
      "Eigenvalue 44:  2.9e-07 +  0.0e+00i\n",
      "Eigenvalue 45:  2.9e-07 +  0.0e+00i\n",
      "Eigenvalue 46:  2.9e-07 +  0.0e+00i\n",
      "Eigenvalue 47:  3.0e-07 +  0.0e+00i\n",
      "Eigenvalue 48:  3.1e-07 +  0.0e+00i\n",
      "Eigenvalue 49:  3.2e-07 +  0.0e+00i\n",
      "Eigenvalue 50:  3.3e-07 +  0.0e+00i\n",
      "Eigenvalue 51:  3.3e-07 +  0.0e+00i\n",
      "Eigenvalue 52:  3.4e-07 +  0.0e+00i\n",
      "Eigenvalue 53:  3.4e-07 +  0.0e+00i\n",
      "Eigenvalue 54:  3.5e-07 +  0.0e+00i\n",
      "Eigenvalue 55:  3.6e-07 +  0.0e+00i\n",
      "Eigenvalue 56:  3.7e-07 +  0.0e+00i\n",
      "Eigenvalue 57:  3.7e-07 +  0.0e+00i\n",
      "Eigenvalue 58:  3.8e-07 +  0.0e+00i\n",
      "Eigenvalue 59:  3.8e-07 +  0.0e+00i\n",
      "Eigenvalue 60:  3.9e-07 +  0.0e+00i\n",
      "Eigenvalue 61:  4.1e-07 +  0.0e+00i\n",
      "Eigenvalue 62:  4.2e-07 +  0.0e+00i\n",
      "Eigenvalue 63:  4.2e-07 +  0.0e+00i\n",
      "Eigenvalue 64:  4.2e-07 +  0.0e+00i\n",
      "Eigenvalue 65:  4.3e-07 +  0.0e+00i\n",
      "Eigenvalue 66:  4.3e-07 +  0.0e+00i\n",
      "Eigenvalue 67:  4.3e-07 +  0.0e+00i\n",
      "Eigenvalue 68:  4.4e-07 +  0.0e+00i\n",
      "Eigenvalue 69:  4.4e-07 +  0.0e+00i\n",
      "Eigenvalue 70:  4.4e-07 +  0.0e+00i\n",
      "Eigenvalue 71:  4.4e-07 +  0.0e+00i\n",
      "Eigenvalue 72:  4.5e-07 +  0.0e+00i\n",
      "Eigenvalue 73:  4.6e-07 +  0.0e+00i\n",
      "Eigenvalue 74:  4.7e-07 +  0.0e+00i\n",
      "Eigenvalue 75:  4.7e-07 +  0.0e+00i\n",
      "Eigenvalue 76:  4.8e-07 +  0.0e+00i\n",
      "Eigenvalue 77:  5.0e-07 +  0.0e+00i\n",
      "Eigenvalue 78:  5.0e-07 +  0.0e+00i\n",
      "Eigenvalue 79:  5.0e-07 +  0.0e+00i\n",
      "Eigenvalue 80:  5.1e-07 +  0.0e+00i\n",
      "Eigenvalue 81:  5.1e-07 +  0.0e+00i\n",
      "Eigenvalue 82:  5.1e-07 +  0.0e+00i\n",
      "Eigenvalue 83:  5.2e-07 +  0.0e+00i\n",
      "Eigenvalue 84:  5.2e-07 +  0.0e+00i\n",
      "Eigenvalue 85:  5.3e-07 +  0.0e+00i\n",
      "Eigenvalue 86:  5.3e-07 +  0.0e+00i\n",
      "Eigenvalue 87:  5.4e-07 +  0.0e+00i\n",
      "Eigenvalue 88:  5.4e-07 +  0.0e+00i\n",
      "Eigenvalue 89:  5.4e-07 +  0.0e+00i\n",
      "Eigenvalue 90:  5.4e-07 +  0.0e+00i\n",
      "Eigenvalue 91:  5.5e-07 +  0.0e+00i\n",
      "Eigenvalue 92:  5.5e-07 +  0.0e+00i\n",
      "Eigenvalue 93:  5.5e-07 +  0.0e+00i\n",
      "Eigenvalue 94:  5.6e-07 +  0.0e+00i\n",
      "Eigenvalue 95:  5.7e-07 +  0.0e+00i\n",
      "Eigenvalue 96:  5.7e-07 +  0.0e+00i\n",
      "Eigenvalue 97:  5.8e-07 +  0.0e+00i\n",
      "Eigenvalue 98:  5.9e-07 +  0.0e+00i\n",
      "Eigenvalue 99:  6.0e-07 +  0.0e+00i\n",
      "Eigenvalue 100:  6.0e-07 +  0.0e+00i\n",
      "Eigenvalue 101:  6.0e-07 +  0.0e+00i\n",
      "Eigenvalue 102:  6.1e-07 +  0.0e+00i\n",
      "Eigenvalue 103:  6.1e-07 +  0.0e+00i\n",
      "Eigenvalue 104:  6.1e-07 +  0.0e+00i\n",
      "Eigenvalue 105:  6.2e-07 +  0.0e+00i\n",
      "Eigenvalue 106:  6.2e-07 +  0.0e+00i\n",
      "Eigenvalue 107:  6.3e-07 +  0.0e+00i\n",
      "Eigenvalue 108:  6.3e-07 +  0.0e+00i\n",
      "Eigenvalue 109:  6.4e-07 +  0.0e+00i\n",
      "Eigenvalue 110:  6.4e-07 +  0.0e+00i\n",
      "Eigenvalue 111:  6.4e-07 +  0.0e+00i\n",
      "Eigenvalue 112:  6.5e-07 +  0.0e+00i\n",
      "Eigenvalue 113:  6.5e-07 +  0.0e+00i\n",
      "Eigenvalue 114:  6.6e-07 +  0.0e+00i\n",
      "Eigenvalue 115:  6.7e-07 +  0.0e+00i\n",
      "Eigenvalue 116:  7.0e-07 +  0.0e+00i\n",
      "Eigenvalue 117:  7.0e-07 +  0.0e+00i\n",
      "Eigenvalue 118:  7.4e-07 +  0.0e+00i\n",
      "Eigenvalue 119:  7.5e-07 +  0.0e+00i\n"
     ]
    },
    {
     "data": {
      "text/plain": [
       "Process(`\u001b[4m../multigrid_analysis/build/cr_analysis\u001b[24m \u001b[4m-A\u001b[24m \u001b[4m../ba-problems/4K_3K_20_inner_city.problem/A.petsc\u001b[24m \u001b[4m-S\u001b[24m \u001b[4m../ba-problems/4K_3K_20_inner_city.problem/S.petsc\u001b[24m \u001b[4m-out\u001b[24m \u001b[4m../ba-problems/4K_3K_20_inner_city.problem/sm_eigs.h5\u001b[24m \u001b[4m-eps_minotr\u001b[24m \u001b[4m-st_type\u001b[24m \u001b[4msinvert\u001b[24m \u001b[4m-eps_target_magnitude\u001b[24m \u001b[4m-eps_target\u001b[24m \u001b[4m0\u001b[24m \u001b[4m-eps_converged_reason\u001b[24m \u001b[4m-eps_nev\u001b[24m \u001b[4m100\u001b[24m \u001b[4m-eps_max_it\u001b[24m \u001b[4m10000\u001b[24m`, ProcessExited(0))"
      ]
     },
     "execution_count": 4,
     "metadata": {},
     "output_type": "execute_result"
    }
   ],
   "source": [
    "S = p_to_s(P)\n",
    "S_file = \"../ba-problems/$prob/S.petsc\"\n",
    "writepetsc(S_file, S)\n",
    "A_file = \"../ba-problems/$prob/A.petsc\"\n",
    "writepetsc(A_file, A)\n",
    "out_file = \"../ba-problems/$prob/sm_eigs.h5\"\n",
    "run(`../multigrid_analysis/build/cr_analysis -A $A_file -S $S_file -out $out_file -eps_minotr -st_type sinvert -eps_target_magnitude -eps_target 0 -eps_converged_reason -eps_nev 100 -eps_max_it 10000`)"
   ]
  },
  {
   "cell_type": "code",
   "execution_count": 5,
   "metadata": {},
   "outputs": [
    {
     "data": {
      "text/plain": [
       "draw_diff! (generic function with 1 method)"
      ]
     },
     "execution_count": 5,
     "metadata": {},
     "output_type": "execute_result"
    }
   ],
   "source": [
    "function draw_diff!(scene :: Scene, initial :: Array, change :: Array, scale :: Float64; kwargs...)\n",
    "    moved = initial .+ change * scale\n",
    "    paired = reshape(vcat(initial, moved), size(initial,1), :)\n",
    "    linesegments!(scene, paired[1,:], paired[2,:], paired[3,:], transparency=true; kwargs...)\n",
    "end"
   ]
  },
  {
   "cell_type": "code",
   "execution_count": 6,
   "metadata": {},
   "outputs": [
    {
     "data": {
      "text/plain": [
       "10-element Array{Tuple{Int64,Float64},1}:\n",
       " (557, 48.45863957738076)    \n",
       " (281, 0.013073442263608365) \n",
       " (276, 0.007273068878014672) \n",
       " (277, 0.002355159868427306) \n",
       " (280, 0.002092069131943741) \n",
       " (565, 0.0006152971952650922)\n",
       " (567, 0.0005495575434815036)\n",
       " (22, 0.0005404618045446477) \n",
       " (568, 0.0004969513523605581)\n",
       " (591, 0.0004905721207659264)"
      ]
     },
     "metadata": {},
     "output_type": "display_data"
    }
   ],
   "source": [
    "egindex = 0\n",
    "aggs = h5read(f, \"0/agg_1\")\n",
    "poses = h5read(f, \"$iter/poses\")\n",
    "scale = h5read(f, \"$iter/scale\")\n",
    "egs = h5read(out_file, \"/\")\n",
    "# TODO: I am not sure if this scaling is correct\n",
    "eg = reshape(egs[\"eigenvector$egindex\"], 9, :) ./ scale\n",
    "\n",
    "norms = mapslices(x->norm(x), eg, dims=1)\n",
    "aggnorms = zeros(maximum(aggs))\n",
    "for (i,v) in enumerate(norms)\n",
    "    aggnorms[aggs[i]] += v\n",
    "end\n",
    "topaggs = sort(collect(enumerate(aggnorms)), rev=true, by=x->x[2])\n",
    "display(topaggs[1:10])\n",
    "topagg = topaggs[1][1];"
   ]
  },
  {
   "cell_type": "code",
   "execution_count": 13,
   "metadata": {},
   "outputs": [
    {
     "data": {
      "text/plain": [
       "0.0001"
      ]
     },
     "execution_count": 13,
     "metadata": {},
     "output_type": "execute_result"
    }
   ],
   "source": [
    "AbstractPlotting.inline!(false)\n",
    "\n",
    "cameras = mapslices(x -> BALUtils.Camera(x), poses, dims=1)\n",
    "centers = hcat(Vector.(BALUtils.center.(cameras))...)\n",
    "\n",
    "colors = distinguishable_colors(length(aggs))[aggs]\n",
    "\n",
    "scene = Scene()\n",
    "scatter!(scene, centers[1,:], centers[2,:], centers[3,:], transparency=true, markersize=0.5, color=colors)\n",
    "change = zeros(3, size(poses,2))\n",
    "for i in 1:size(poses,2)\n",
    "    change[:,i] = -(RodriguesVec((poses[1:3,i] + eg[1:3,i])...)' * (poses[4:6,i]+eg[4:6,i])) - centers[:,i]\n",
    "end\n",
    "draw_diff!(scene, centers, change, 0.01, transparency=true)\n",
    "display(scene)\n",
    "\n",
    "cam = cameracontrols(scene)\n",
    "cam.near[] = 0.0001"
   ]
  },
  {
   "cell_type": "code",
   "execution_count": 33,
   "metadata": {},
   "outputs": [
    {
     "data": {
      "text/plain": [
       "\"Eigenvalue: 1.5684160496176408e-7\""
      ]
     },
     "metadata": {},
     "output_type": "display_data"
    },
    {
     "name": "stderr",
     "output_type": "stream",
     "text": [
      "┌ Warning: RCall.jl: Warning in self$trans$transform(x) : NaNs produced\n",
      "│ Warning: Transformation introduced infinite values in continuous y-axis\n",
      "│ Warning in self$trans$transform(x) : NaNs produced\n",
      "│ Warning: Transformation introduced infinite values in continuous y-axis\n",
      "│ Warning in self$trans$transform(x) : NaNs produced\n",
      "│ Warning: Transformation introduced infinite values in continuous y-axis\n",
      "│ Warning: Removed 2518 rows containing missing values (geom_point).\n",
      "│ Warning: Removed 2520 rows containing missing values (geom_point).\n",
      "│ Warning: Removed 2478 rows containing missing values (geom_point).\n",
      "└ @ RCall /Users/tristan/.julia/packages/RCall/g7dhB/src/io.jl:113\n"
     ]
    },
    {
     "data": {
      "text/plain": [
       "RObject{NilSxp}\n",
       "NULL\n"
      ]
     },
     "execution_count": 33,
     "metadata": {},
     "output_type": "execute_result"
    },
    {
     "name": "stderr",
     "output_type": "stream",
     "text": [
      "┌ Error: Error in renderloop!\n",
      "│   exception = GLFW.GLFWError(GLFW.PLATFORM_ERROR, \"Cocoa: Failed to find service port for display\")\n",
      "└ @ GLMakie /Users/tristan/.julia/packages/GLMakie/gMxEB/src/rendering.jl:19\n",
      "┌ Error: Error in renderloop!\n",
      "│   exception = GLFW.GLFWError(GLFW.PLATFORM_ERROR, \"Cocoa: Failed to find service port for display\")\n",
      "└ @ GLMakie /Users/tristan/.julia/packages/GLMakie/gMxEB/src/rendering.jl:24\n"
     ]
    }
   ],
   "source": [
    "df = DataFrame(x=collect(1:size(eg,2)), y=norms[:])\n",
    "R\"library(ggplot2)\"\n",
    "R\"ggplot($df, aes(x=x, y=y)) + geom_point() + scale_y_log10()\"\n",
    "\n",
    "df = DataFrame(x=1:size(poses,2), trans=mapslices(norm, eg[1:3,:], dims=1)[:],\n",
    "                                  rot=mapslices(norm, eg[4:6,:], dims=1)[:],\n",
    "                                  intrin=mapslices(norm, eg[7:8,:], dims=1)[:],\n",
    "                                  focal=eg[7,:],\n",
    "                                  d1=eg[8,:],\n",
    "                                  d2=eg[9,:])\n",
    "\n",
    "display(\"Eigenvalue: $(egs[\"eigenvalues\"][egindex+1])\")\n",
    "R\"library(ggplot2)\n",
    "  library(extrafont)\n",
    "  loadfonts()\"\n",
    "R\"source(\\\"plotting_common.r\\\")\"\n",
    "R\"ggplot($df, aes(x=x)) + geom_point(aes(y=trans, color=\\\"Translation\\\")) +\n",
    "                          geom_point(aes(y=rot, color=\\\"Rotation\\\")) +\n",
    "                          geom_point(aes(y=focal, color=\\\"Focal Length\\\")) +\n",
    "                          geom_point(aes(y=d1, color=\\\"Distortion 2\\\")) +\n",
    "                          geom_point(aes(y=d2, color=\\\"Distortion 4\\\")) +\n",
    "                          scale_y_log10() +\n",
    "                          ylab(\\\"Magnitude\\\") +\n",
    "                          xlab(\\\"Degree of Freedom\\\") +\n",
    "                          labs(color=\\\"Parameter Type\\\")\n",
    "  ggsave(\\\"../../thesis/cr_eigenvector.eps\\\", height=3, width=6, dpi=\\\"retina\\\")\""
   ]
  },
  {
   "cell_type": "code",
   "execution_count": 9,
   "metadata": {},
   "outputs": [
    {
     "data": {
      "image/png": "[encoded data removed]"
     },
     "metadata": {},
     "output_type": "display_data"
    },
    {
     "data": {
      "text/plain": [
       "RObject{VecSxp}\n"
      ]
     },
     "metadata": {},
     "output_type": "display_data"
    }
   ],
   "source": [
    "szs = map(1:100) do i\n",
    "    eg = reshape(h5read(out_file, \"/eigenvector$i\"), 9, :)\n",
    "    aggs = h5read(f, \"0/agg_1\")\n",
    "    scale = h5read(f, \"$iter/scale\")\n",
    "    # TODO: I am not sure if this scaling is correct\n",
    "    eg = eg .* scale\n",
    "    count(aggs[findmax(mapslices(norm, eg, dims=1)[:])[2]] .== aggs)\n",
    "end\n",
    "# TODO: calculate diameter\n",
    "df = DataFrame(i=1:length(szs), sizes=szs)\n",
    "display(R\"ggplot($df,aes(x=i,y=sizes)) + geom_point()\")\n",
    "#count(map(x -> count(x.==aggs),unique(aggs)) .== 8)"
   ]
  },
  {
   "cell_type": "code",
   "execution_count": 10,
   "metadata": {},
   "outputs": [
    {
     "data": {
      "text/plain": [
       "\"Normalized visibility\""
      ]
     },
     "metadata": {},
     "output_type": "display_data"
    },
    {
     "data": {
      "text/plain": [
       "8×8 Array{Float64,2}:\n",
       " 1.0       1.0       1.0       1.0       …  0.894427  0.894427  0.5     \n",
       " 1.0       1.0       1.0       1.0          0.894427  0.894427  0.5     \n",
       " 1.0       1.0       1.0       1.0          0.894427  0.894427  0.5     \n",
       " 1.0       1.0       1.0       1.0          0.894427  0.894427  0.5     \n",
       " 1.0       1.0       1.0       1.0          0.894427  0.894427  0.5     \n",
       " 0.894427  0.894427  0.894427  0.894427  …  1.0       0.8       0.67082 \n",
       " 0.894427  0.894427  0.894427  0.894427     0.8       1.0       0.447214\n",
       " 0.5       0.5       0.5       0.5          0.67082   0.447214  1.0     "
      ]
     },
     "metadata": {},
     "output_type": "display_data"
    },
    {
     "data": {
      "text/plain": [
       "\"Visibility\""
      ]
     },
     "metadata": {},
     "output_type": "display_data"
    },
    {
     "data": {
      "text/plain": [
       "8×8 Array{Int64,2}:\n",
       " 4  4  4  4  4  4  4  2\n",
       " 4  4  4  4  4  4  4  2\n",
       " 4  4  4  4  4  4  4  2\n",
       " 4  4  4  4  4  4  4  2\n",
       " 4  4  4  4  4  4  4  2\n",
       " 4  4  4  4  4  5  4  3\n",
       " 4  4  4  4  4  4  5  2\n",
       " 2  2  2  2  2  3  2  4"
      ]
     },
     "metadata": {},
     "output_type": "display_data"
    },
    {
     "data": {
      "text/plain": [
       "\"Primary eigenvalue direction\""
      ]
     },
     "metadata": {},
     "output_type": "display_data"
    },
    {
     "data": {
      "text/plain": [
       "9-element Array{Float64,1}:\n",
       " -0.039083199019585346 \n",
       " -0.002933895683945749 \n",
       " -0.9981228401606826   \n",
       " -0.002034039892376586 \n",
       " -0.04593803783486722  \n",
       "  0.009883823282684095 \n",
       " -0.001219512423774039 \n",
       " -0.0010343272617152237\n",
       " -6.415265258304749e-5 "
      ]
     },
     "metadata": {},
     "output_type": "display_data"
    },
    {
     "data": {
      "text/plain": [
       "\"Portion in primary direction\""
      ]
     },
     "metadata": {},
     "output_type": "display_data"
    },
    {
     "data": {
      "text/plain": [
       "8-element Array{Float64,1}:\n",
       "  -5.832271483191155   \n",
       "  14.194457406349882   \n",
       "  -0.9889662755586839  \n",
       "   9.785964810961019   \n",
       " -17.37631566802908    \n",
       "   0.2241179714718675  \n",
       "  -0.02497285505250087 \n",
       "   0.017986093048732686"
      ]
     },
     "metadata": {},
     "output_type": "display_data"
    },
    {
     "data": {
      "text/plain": [
       "GLMakie.Screen(...)"
      ]
     },
     "execution_count": 10,
     "metadata": {},
     "output_type": "execute_result"
    }
   ],
   "source": [
    "idx = aggs .== topagg\n",
    "v = vis2[idx, idx];\n",
    "display(\"Normalized visibility\")\n",
    "display(Matrix(vis[idx,idx]))\n",
    "display(\"Visibility\")\n",
    "display(Matrix(vis2[idx,idx]))\n",
    "c = eg[:, idx]\n",
    "u = svd(c).U[:,1]\n",
    "display(\"Primary eigenvalue direction\")\n",
    "display(u)\n",
    "dir = mapslices(s -> dot(s,u), c, dims=1)[:]\n",
    "display(\"Portion in primary direction\")\n",
    "display(dir)\n",
    "#s = gplot(v; vertexcolors=dir)\n",
    "s = gplot3d(v, poses[:,idx]; vertexcolors=dir)\n",
    "\n",
    "obs = map(x -> map(y -> y[1], x), ba.observations[p][idx])\n",
    "pidx = unique(vcat(obs...))\n",
    "scatter!(s, ba.points[pidx], transparency=true)\n",
    "\n",
    "centers = mapslices(x -> BALUtils.center(BALUtils.Camera(x)), poses, dims=1)\n",
    "lines = mapreduce(hcat, enumerate(obs)) do (i,o)\n",
    "    mapreduce(hcat, o) do oi\n",
    "        hcat(centers[:,idx][:,i],ba.points[oi])\n",
    "    end\n",
    "end\n",
    "#linesegments!(s, lines[1,:], lines[2,:], lines[3,:])\n",
    "\n",
    "display(s)"
   ]
  },
  {
   "cell_type": "code",
   "execution_count": 11,
   "metadata": {},
   "outputs": [
    {
     "data": {
      "text/plain": [
       "3.173968253968254"
      ]
     },
     "execution_count": 11,
     "metadata": {},
     "output_type": "execute_result"
    }
   ],
   "source": [
    "mean(map(x->count(x.==aggs), unique(aggs)))"
   ]
  },
  {
   "cell_type": "code",
   "execution_count": null,
   "metadata": {},
   "outputs": [],
   "source": []
  }
 ],
 "metadata": {
  "kernelspec": {
   "display_name": "Julia 1.3.1",
   "language": "julia",
   "name": "julia-1.3"
  },
  "language_info": {
   "file_extension": ".jl",
   "mimetype": "application/julia",
   "name": "julia",
   "version": "1.3.1"
  }
 },
 "nbformat": 4,
 "nbformat_minor": 4
}
