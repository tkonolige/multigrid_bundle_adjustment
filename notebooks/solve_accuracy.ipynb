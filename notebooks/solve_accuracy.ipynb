{
 "cells": [
  {
   "cell_type": "code",
   "execution_count": 3,
   "metadata": {},
   "outputs": [
    {
     "name": "stderr",
     "output_type": "stream",
     "text": [
      "┌ Info: Precompiling bamg [38ddf468-022c-11e9-1596-a3da532e27b8]\n",
      "└ @ Base loading.jl:1273\n",
      "┌ Info: Precompiling PyPlot [d330b81b-6aea-500a-939a-2ce795aea3ee]\n",
      "└ @ Base loading.jl:1273\n",
      "┌ Info: Precompiling RCall [6f49c342-dc21-5d91-9882-a32aef131414]\n",
      "└ @ Base loading.jl:1273\n"
     ]
    }
   ],
   "source": [
    "using bamg\n",
    "using HDF5\n",
    "using BALUtils\n",
    "using IterativeSolvers\n",
    "using SparseArrays\n",
    "using LinearAlgebra\n",
    "using PyPlot\n",
    "using RCall\n",
    "using DataFrames"
   ]
  },
  {
   "cell_type": "code",
   "execution_count": 4,
   "metadata": {},
   "outputs": [
    {
     "data": {
      "text/plain": [
       "Bundle adjustment problem with 1723 cameras, 156502 points, 678718 observations"
      ]
     },
     "execution_count": 4,
     "metadata": {},
     "output_type": "execute_result"
    }
   ],
   "source": [
    "function readmat(filename, name)\n",
    "    sz = h5read(filename, \"$name/size\")\n",
    "    colptr = h5read(filename, \"$name/colptr\")\n",
    "    nzval = h5read(filename, \"$name/nzval\")\n",
    "    rowval = h5read(filename, \"$name/rowval\")\n",
    "    SparseMatrixCSC(sz..., colptr, rowval, nzval)\n",
    "end\n",
    "prob = \"bal-ladybug-1723\"\n",
    "dump_file = \"../ba-problems/$prob/dump.h5\"\n",
    "ba = readbal(\"../ba-problems/$prob/problem.bal\")"
   ]
  },
  {
   "cell_type": "code",
   "execution_count": 5,
   "metadata": {},
   "outputs": [
    {
     "data": {
      "text/plain": [
       "test (generic function with 1 method)"
      ]
     },
     "execution_count": 5,
     "metadata": {},
     "output_type": "execute_result"
    }
   ],
   "source": [
    "function metrics(xs, A, b, gt)\n",
    "    residuals = map(x -> norm(b - A*x), xs)\n",
    "    qs = map(x -> norm(0.5 * x'*A*x - x'*b), xs)\n",
    "    tol = vcat(missing, collect(2:length(qs)) .* (qs[2:end] .- qs[1:end-1]) ./ qs[2:end])\n",
    "    errs = map(x -> norm(x - gt), xs)\n",
    "    residuals, qs, tol, errs\n",
    "end\n",
    "function run_prec(A, b, prec)\n",
    "    x = zeros(size(b))\n",
    "    xs = []\n",
    "    function conv(it, iteration)\n",
    "        push!(xs, copy(it.x))\n",
    "        iteration > it.maxiter\n",
    "    end\n",
    "    cg(A, b, Pl=prec, maxiter=100, converged=conv)\n",
    "    # for i in 1:100\n",
    "    #     push!(xs, copy(x))\n",
    "    #     cg!(x, A, b, Pl=prec, maxiter=1)\n",
    "    # end\n",
    "    xs\n",
    "end\n",
    "function test(A, scale, poses, b)\n",
    "    mg = bamg.create_multigrid(ba, bamg.Options());\n",
    "    bamg.update!(mg, A, scale, poses, nothing)\n",
    "    xs_mg = run_prec(A, b, mg)\n",
    "    \n",
    "    B = bamg.block_diag(A, 9)\n",
    "    xs_pb = run_prec(A, b, B)\n",
    "    \n",
    "    #gt = cg(A, b, Pl=mg, maxiter=200, tol=1e-14, verbose=true)\n",
    "    gt = A \\ b\n",
    "    @show norm(b - A * gt)\n",
    "    \n",
    "    res_mg, qs_mg, tol_mg, errs_mg = metrics(xs_mg, A, b, gt)\n",
    "    res_pb, qs_pb, tol_pb, errs_pb = metrics(xs_pb, A, b, gt)\n",
    "    DataFrame(res=vcat(res_mg, res_pb), qs=vcat(qs_mg, qs_pb), errs=vcat(errs_mg, errs_pb),\n",
    "              tol=vcat(tol_mg,tol_pb),\n",
    "              prec=vcat(fill(\"multigrid\", length(res_mg)), fill(\"pbjacobi\", length(res_pb))),\n",
    "              iter=vcat(1:length(res_mg), 1:length(res_pb)))\n",
    "end"
   ]
  },
  {
   "cell_type": "code",
   "execution_count": 6,
   "metadata": {},
   "outputs": [
    {
     "name": "stdout",
     "output_type": "stream",
     "text": [
      "norm(b - A * gt) = 2.6642758582827583e-12\n"
     ]
    }
   ],
   "source": [
    "iter = 5\n",
    "df = test(readmat(dump_file, \"$iter/A\"), h5read(dump_file, \"$iter/scale\"), h5read(dump_file, \"$iter/poses\"), h5read(dump_file, \"$iter/b\"));"
   ]
  },
  {
   "cell_type": "code",
   "execution_count": 9,
   "metadata": {},
   "outputs": [
    {
     "data": {
      "image/png": "[encoded data removed]"
     },
     "metadata": {},
     "output_type": "display_data"
    },
    {
     "data": {
      "text/plain": [
       "RObject{VecSxp}\n"
      ]
     },
     "execution_count": 9,
     "metadata": {},
     "output_type": "execute_result"
    }
   ],
   "source": [
    "R\"library(ggplot2)\"\n",
    "R\"ggplot($df, aes(x=iter, y=res, color=\\\"Residual (L2)\\\", linetype=prec)) + geom_line() +\n",
    "  geom_line(aes(y=errs, color=\\\"Error (L2)\\\", linetype=prec)) + scale_y_log10() +\n",
    "  geom_line(aes(y=tol, color=\\\"Nash-Sofer\\\", linetype=prec))\n",
    "\"\n",
    "R\"ggplot($df, aes(x=errs, y=res, linetype=prec)) + geom_line() + scale_y_log10() + scale_x_log10()\n",
    "\"\n",
    "#R\"ggsave(\\\"residual_vs_iteration.png\\\")\""
   ]
  },
  {
   "cell_type": "code",
   "execution_count": null,
   "metadata": {},
   "outputs": [],
   "source": []
  }
 ],
 "metadata": {
  "kernelspec": {
   "display_name": "Julia 1.3.0",
   "language": "julia",
   "name": "julia-1.3"
  },
  "language_info": {
   "file_extension": ".jl",
   "mimetype": "application/julia",
   "name": "julia",
   "version": "1.3.0"
  }
 },
 "nbformat": 4,
 "nbformat_minor": 4
}
