{
 "cells": [
  {
   "cell_type": "code",
   "execution_count": 3,
   "metadata": {},
   "outputs": [
    {
     "name": "stderr",
     "output_type": "stream",
     "text": [
      "┌ Info: Precompiling bamg [38ddf468-022c-11e9-1596-a3da532e27b8]\n",
      "└ @ Base loading.jl:1273\n",
      "┌ Info: Precompiling PyPlot [d330b81b-6aea-500a-939a-2ce795aea3ee]\n",
      "└ @ Base loading.jl:1273\n",
      "┌ Info: Precompiling RCall [6f49c342-dc21-5d91-9882-a32aef131414]\n",
      "└ @ Base loading.jl:1273\n"
     ]
    }
   ],
   "source": [
    "using bamg\n",
    "using HDF5\n",
    "using BALUtils\n",
    "using IterativeSolvers\n",
    "using SparseArrays\n",
    "using LinearAlgebra\n",
    "using PyPlot\n",
    "using RCall\n",
    "using DataFrames"
   ]
  },
  {
   "cell_type": "code",
   "execution_count": 30,
   "metadata": {},
   "outputs": [
    {
     "data": {
      "text/plain": [
       "Bundle adjustment problem with 490 cameras, 951 points, 4971 observations"
      ]
     },
     "execution_count": 30,
     "metadata": {},
     "output_type": "execute_result"
    }
   ],
   "source": [
    "function readmat(filename, name)\n",
    "    sz = h5read(filename, \"$name/size\")\n",
    "    colptr = Int.(h5read(filename, \"$name/jc\")) .+ 1\n",
    "    nzval = h5read(filename, \"$name/data\")\n",
    "    rowval = Int.(h5read(filename, \"$name/ir\")) .+ 1\n",
    "    SparseMatrixCSC(sz..., colptr, rowval, nzval)\n",
    "end\n",
    "prob = \"5_block_drift.problem\"\n",
    "dump_file = \"../ba-problems/$prob/default_dump.h5\"\n",
    "ba = readbal(\"../ba-problems/$prob/problem_noised.bbal\")"
   ]
  },
  {
   "cell_type": "code",
   "execution_count": 31,
   "metadata": {},
   "outputs": [
    {
     "data": {
      "text/plain": [
       "test (generic function with 1 method)"
      ]
     },
     "execution_count": 31,
     "metadata": {},
     "output_type": "execute_result"
    }
   ],
   "source": [
    "function metrics(xs, A, b, gt)\n",
    "    residuals = map(x -> norm(b - A*x), xs)\n",
    "    qs = map(x -> norm(0.5 * x'*A*x - x'*b), xs)\n",
    "    tol = vcat(missing, collect(2:length(qs)) .* (qs[2:end] .- qs[1:end-1]) ./ qs[2:end])\n",
    "    errs = map(x -> norm(x - gt), xs)\n",
    "    residuals, qs, tol, errs\n",
    "end\n",
    "function run_prec(A, b, prec, iters)\n",
    "    x = zeros(size(b))\n",
    "    xs = []\n",
    "    function conv(it, iteration)\n",
    "        push!(xs, copy(it.x))\n",
    "        iteration > it.maxiter\n",
    "    end\n",
    "    cg(A, b, Pl=prec, maxiter=iters, converged=conv)\n",
    "    # for i in 1:100\n",
    "    #     push!(xs, copy(x))\n",
    "    #     cg!(x, A, b, Pl=prec, maxiter=1)\n",
    "    # end\n",
    "    xs\n",
    "end\n",
    "function test(A, scale, poses, b)\n",
    "    mg = bamg.create_multigrid(ba, bamg.Options());\n",
    "    bamg.update!(mg, A, scale, poses, nothing)\n",
    "    xs_mg = run_prec(A, b, mg, 100)\n",
    "    \n",
    "    B = bamg.block_diag(A, 9)\n",
    "    xs_pb = run_prec(A, b, B, 500)\n",
    "    \n",
    "    #gt = cg(A, b, Pl=mg, maxiter=200, tol=1e-14, verbose=true)\n",
    "    gt = A \\ b\n",
    "    @show norm(b - A * gt)\n",
    "    \n",
    "    res_mg, qs_mg, tol_mg, errs_mg = metrics(xs_mg, A, b, gt)\n",
    "    res_pb, qs_pb, tol_pb, errs_pb = metrics(xs_pb, A, b, gt)\n",
    "    DataFrame(res=vcat(res_mg, res_pb), qs=vcat(qs_mg, qs_pb), errs=vcat(errs_mg, errs_pb),\n",
    "              tol=vcat(tol_mg,tol_pb),\n",
    "              prec=vcat(fill(\"multigrid\", length(res_mg)), fill(\"pbjacobi\", length(res_pb))),\n",
    "              iter=vcat(1:length(res_mg), 1:length(res_pb)))\n",
    "end"
   ]
  },
  {
   "cell_type": "code",
   "execution_count": 32,
   "metadata": {},
   "outputs": [
    {
     "name": "stdout",
     "output_type": "stream",
     "text": [
      "norm(b - A * gt) = 3.748690444400094e-17\n"
     ]
    }
   ],
   "source": [
    "iter = 5\n",
    "df = test(readmat(dump_file, \"$iter/A\"), h5read(dump_file, \"$iter/scale\"), h5read(dump_file, \"$iter/poses\"), h5read(dump_file, \"$iter/b\"));"
   ]
  },
  {
   "cell_type": "code",
   "execution_count": 56,
   "metadata": {},
   "outputs": [
    {
     "name": "stdout",
     "output_type": "stream",
     "text": [
      "[1] \"Writing to ../paper/residual_vs_error.tex\"\n"
     ]
    },
    {
     "name": "stderr",
     "output_type": "stream",
     "text": [
      "┌ Warning: RCall.jl: Warning: Removed 60 rows containing missing values (geom_point).\n",
      "└ @ RCall /Users/tristan/.julia/packages/RCall/g7dhB/src/io.jl:113\n"
     ]
    },
    {
     "data": {
      "text/plain": [
       "RObject{IntSxp}\n",
       "null device \n",
       "          1 \n"
      ]
     },
     "execution_count": 56,
     "metadata": {},
     "output_type": "execute_result"
    }
   ],
   "source": [
    "R\"source(\\\"plotting_common.r\\\")\"\n",
    "R\"ggplot($df, aes(x=iter, y=res, color=\\\"Residual (L2)\\\", linetype=prec)) + geom_line() +\n",
    "  geom_line(aes(y=errs, color=\\\"Error (L2)\\\", linetype=prec)) + scale_y_log10() +\n",
    "  geom_line(aes(y=tol, color=\\\"Nash-Sofer\\\", linetype=prec))\n",
    "\"\n",
    "R\"ggplot($df, aes(x=errs, y=res, color=prec)) + geom_point() + scale_y_log_eng(limits=c(1e-6,NA)) +\n",
    "  scale_x_log_eng(limits=c(0.1,NA)) +\n",
    "  xlab(\\\"Residual Norm (L2)\\\") + ylab(\\\"Error (L2)\\\") + labs(color=\\\"Preconditioner\\\")+\n",
    "  scale_color_discrete(labels = c(\\\"Multigrid\\\", \\\"Point Block Jacobi\\\"))\n",
    "  tikz_file(\\\"../paper/residual_vs_error.tex\\\")\"\n",
    "#R\"ggsave(\\\"residual_vs_iteration.png\\\")\""
   ]
  },
  {
   "cell_type": "code",
   "execution_count": null,
   "metadata": {},
   "outputs": [],
   "source": []
  }
 ],
 "metadata": {
  "kernelspec": {
   "display_name": "Julia 1.3.1",
   "language": "julia",
   "name": "julia-1.3"
  },
  "language_info": {
   "file_extension": ".jl",
   "mimetype": "application/julia",
   "name": "julia",
   "version": "1.3.1"
  }
 },
 "nbformat": 4,
 "nbformat_minor": 4
}
