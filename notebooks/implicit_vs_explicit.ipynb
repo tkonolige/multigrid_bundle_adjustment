{
 "cells": [
  {
   "cell_type": "code",
   "execution_count": 69,
   "metadata": {},
   "outputs": [],
   "source": [
    "using BALUtils\n",
    "using SparseArrays\n",
    "using Glob\n",
    "using DataFrames\n",
    "using RCall\n",
    "@rlibrary ggplot2"
   ]
  },
  {
   "cell_type": "code",
   "execution_count": 14,
   "metadata": {},
   "outputs": [
    {
     "data": {
      "text/plain": [
       "implicit_pbjacobi (generic function with 1 method)"
      ]
     },
     "execution_count": 14,
     "metadata": {},
     "output_type": "execute_result"
    }
   ],
   "source": [
    "function implicit_cost(ba :: BA) \n",
    "    #F'F - F'E inv(E'E) E'F\n",
    "    mulcost = 9 * num_observations(ba) * 2 * 4 + # 4 multiplies with F (xy for each observation)\n",
    "              3 * num_observations(ba) * 2 * 2 + # 2 multiplies with E\n",
    "              num_cameras(ba) * 9 + # the substraction\n",
    "              3 * num_observations(ba) * 2 * 3 + # E'E\n",
    "              num_points(ba) * 3 * 3 * 3 + # inv\n",
    "              num_points(ba) * 3* 3 # application of inv(E'E)\n",
    "    vecsize = 9 * num_cameras(ba) + 3 * num_points(ba)\n",
    "    mulcost, vecsize\n",
    "end\n",
    "\n",
    "function implicit_pbjacobi(ba :: BA)\n",
    "    # switch visibility graph from camera->points to point->cameras\n",
    "    pvis = map(x -> Vector{Tuple{Int,Float64,Float64}}(), 1:num_points(ba))\n",
    "    for (ic, obs) in enumerate(ba.observations)\n",
    "        for (ip, x, y) in obs\n",
    "            push!(pvis[ip], (ic, x, y))\n",
    "        end\n",
    "    end\n",
    "    \n",
    "    setup =\n",
    "    sum(map(c -> length(c) * (9 * 2 * 3 + # F'E\n",
    "                              3 * 3 * 9 + # inv(E'E) * E'F\n",
    "                              9 * 3 * 9 + # F'E * inv(E'E) * E'F\n",
    "                              9 * 9 # summation\n",
    "                ), pvis)) +\n",
    "    num_cameras(ba) * 9 * 9^2 # inv\n",
    "    mul = num_cameras(ba) * 9 * 9\n",
    "    setup, mul\n",
    "end"
   ]
  },
  {
   "cell_type": "code",
   "execution_count": 41,
   "metadata": {},
   "outputs": [
    {
     "data": {
      "text/plain": [
       "explicit_pbjacobi (generic function with 2 methods)"
      ]
     },
     "execution_count": 41,
     "metadata": {},
     "output_type": "execute_result"
    }
   ],
   "source": [
    "function explicit_cost(ba :: BA)\n",
    "    # switch visibility graph from camera->points to point->cameras\n",
    "    pvis = map(x -> Vector{Tuple{Int,Float64,Float64}}(), 1:num_points(ba))\n",
    "    for (ic, obs) in enumerate(ba.observations)\n",
    "        for (ip, x, y) in obs\n",
    "            push!(pvis[ip], (ic, x, y))\n",
    "        end\n",
    "    end\n",
    "    \n",
    "    # TODO: add nash-sofer criteria\n",
    "    setupcost =\n",
    "    9 * num_observations(ba) * 2 * 9 + # block diagonal F'F\n",
    "    3 * num_observations(ba) * 2 * 3 + # block diagonal E'E\n",
    "    3 * num_points(ba) * 3^2 + # inv\n",
    "    3 * num_points(ba) * 3 + # inv(E'E) * b\n",
    "    sum(map(c -> 9*2*3*length(c)^2 + # F'E for each chunk entry\n",
    "                 length(c)^2 * (3*3*9 + # inv(E'E) * E'F\n",
    "                                9*3*9 + # F'E * (inv(E'E) * E'F)\n",
    "                                9*9 # summation over all blocks\n",
    "                                ) +\n",
    "                 length(c) * (9 * 3 + 9 * 3) + # rhs F'E * b\n",
    "                 length(c) * (9 * 2 + 3 * 2 + 3) # back substitute\n",
    "             , pvis)) +\n",
    "    3 * num_points(ba) * 3 # inv(E'E) * x for backsubstitute\n",
    "    mulcost = nnz(visibility_graph(ba)) * 9 * 9\n",
    "    vecsize = num_cameras(ba) * 9\n",
    "    setupcost, mulcost, vecsize\n",
    "end\n",
    "\n",
    "function explicit_pbjacobi(ba :: BA)\n",
    "    setup = num_cameras(ba) * 9 * 9^2 # inv\n",
    "    mul = num_cameras(ba) * 9 * 9\n",
    "    setup, mul\n",
    "end"
   ]
  },
  {
   "cell_type": "code",
   "execution_count": 34,
   "metadata": {},
   "outputs": [
    {
     "data": {
      "text/plain": [
       "break_even_cg (generic function with 1 method)"
      ]
     },
     "execution_count": 34,
     "metadata": {},
     "output_type": "execute_result"
    }
   ],
   "source": [
    "function break_even_matmul(ba)\n",
    "    im, _ = implicit_cost(ba)\n",
    "    ex_setup, ex_mul, _ = explicit_cost(ba)\n",
    "    if (ex_mul - im) > 0\n",
    "        Inf\n",
    "    else\n",
    "        - ex_setup / (ex_mul - im)\n",
    "    end\n",
    "end\n",
    "\n",
    "function break_even_cg(ba)\n",
    "    # TODO pbjacobi creation cost\n",
    "    im_mul, imvec = implicit_cost(ba)\n",
    "    im_setup, impbjacobi_mul = implicit_pbjacobi(ba)\n",
    "    im_mul += impbjacobi_mul\n",
    "    ex_setup, ex_mul, exvec = explicit_cost(ba)\n",
    "    expbjacobi_setup, expbjacobi_mul = explicit_pbjacobi(ba)\n",
    "    ex_setup += expbjacobi_setup\n",
    "    ex_mul += expbjacobi_mul\n",
    "    \n",
    "    diff_setup = im_setup - ex_setup\n",
    "    diff_solve = (ex_mul + exvec * 3 + exvec * 2) - (im_mul + imvec * 3 + imvec * 3)\n",
    "    if diff_solve > 0 && diff_setup < 0\n",
    "        Inf\n",
    "    else\n",
    "      diff_setup / diff_solve\n",
    "    end\n",
    "end"
   ]
  },
  {
   "cell_type": "code",
   "execution_count": 35,
   "metadata": {},
   "outputs": [
    {
     "name": "stdout",
     "output_type": "stream",
     "text": [
      "break_even_matmul(ba) = Inf\n",
      "break_even_cg(ba) = Inf\n"
     ]
    },
    {
     "data": {
      "text/plain": [
       "Inf"
      ]
     },
     "execution_count": 35,
     "metadata": {},
     "output_type": "execute_result"
    }
   ],
   "source": [
    "ba = readbal(\"../ba-problems/5K_2K_10.problem/problem_noised.bbal\")\n",
    "@show break_even_matmul(ba)\n",
    "@show break_even_cg(ba)"
   ]
  },
  {
   "cell_type": "code",
   "execution_count": 36,
   "metadata": {},
   "outputs": [
    {
     "name": "stdout",
     "output_type": "stream",
     "text": [
      "break_even_matmul(ba) = 59.63571759147212\n",
      "break_even_cg(ba) = 51.42126843311785\n"
     ]
    },
    {
     "data": {
      "text/plain": [
       "51.42126843311785"
      ]
     },
     "execution_count": 36,
     "metadata": {},
     "output_type": "execute_result"
    }
   ],
   "source": [
    "ba = readbal(\"../ba-problems/bal-ladybug-1723.problem/problem_noised.bbal\")\n",
    "@show break_even_matmul(ba)\n",
    "@show break_even_cg(ba)"
   ]
  },
  {
   "cell_type": "code",
   "execution_count": 37,
   "metadata": {},
   "outputs": [
    {
     "name": "stdout",
     "output_type": "stream",
     "text": [
      "break_even_matmul(ba) = 31.80014545636042\n",
      "break_even_cg(ba) = 26.358340983701932\n"
     ]
    },
    {
     "data": {
      "text/plain": [
       "26.358340983701932"
      ]
     },
     "execution_count": 37,
     "metadata": {},
     "output_type": "execute_result"
    }
   ],
   "source": [
    "ba = readbal(\"../ba-problems/bal-ladybug-49.problem/problem.bbal\")\n",
    "@show break_even_matmul(ba)\n",
    "@show break_even_cg(ba)"
   ]
  },
  {
   "cell_type": "code",
   "execution_count": 38,
   "metadata": {},
   "outputs": [
    {
     "name": "stdout",
     "output_type": "stream",
     "text": [
      "break_even_matmul(ba) = 1400.7548950714292\n",
      "break_even_cg(ba) = 1056.1088317288604\n"
     ]
    },
    {
     "data": {
      "text/plain": [
       "1056.1088317288604"
      ]
     },
     "execution_count": 38,
     "metadata": {},
     "output_type": "execute_result"
    }
   ],
   "source": [
    "ba = readbal(\"../bal-data/final/problem-3068-310854-pre.txt\")\n",
    "@show break_even_matmul(ba)\n",
    "@show break_even_cg(ba)"
   ]
  },
  {
   "cell_type": "code",
   "execution_count": 39,
   "metadata": {},
   "outputs": [
    {
     "name": "stdout",
     "output_type": "stream",
     "text": [
      "break_even_matmul(ba) = 30.403870689987695\n",
      "break_even_cg(ba) = 24.89042060668174\n"
     ]
    },
    {
     "data": {
      "text/plain": [
       "24.89042060668174"
      ]
     },
     "execution_count": 39,
     "metadata": {},
     "output_type": "execute_result"
    }
   ],
   "source": [
    "ba = readbal(\"../bal-data/trafalgar/problem-257-65132-pre.txt\")\n",
    "@show break_even_matmul(ba)\n",
    "@show break_even_cg(ba)"
   ]
  },
  {
   "cell_type": "code",
   "execution_count": 40,
   "metadata": {},
   "outputs": [
    {
     "name": "stdout",
     "output_type": "stream",
     "text": [
      "break_even_matmul(ba) = 71.57372876416945\n",
      "break_even_cg(ba) = 64.71827537499925\n"
     ]
    },
    {
     "data": {
      "text/plain": [
       "64.71827537499925"
      ]
     },
     "execution_count": 40,
     "metadata": {},
     "output_type": "execute_result"
    }
   ],
   "source": [
    "ba = readbal(\"../bal-data/venice/problem-1778-993923-pre.txt\")\n",
    "@show break_even_matmul(ba)\n",
    "@show break_even_cg(ba)"
   ]
  },
  {
   "cell_type": "code",
   "execution_count": 116,
   "metadata": {},
   "outputs": [
    {
     "data": {
      "text/html": [
       "<table class=\"data-frame\"><thead><tr><th></th><th>problem</th><th>points</th><th>cameras</th><th>observations</th></tr><tr><th></th><th>String</th><th>Int64</th><th>Int64</th><th>Int64</th></tr></thead><tbody><p>11 rows × 7 columns (omitted printing of 3 columns)</p><tr><th>1</th><td>../bal-data/dubrovnik/problem-16-22106-pre.txt</td><td>22106</td><td>16</td><td>83718</td></tr><tr><th>2</th><td>../bal-data/dubrovnik/problem-356-226730-pre.txt</td><td>226730</td><td>356</td><td>1255268</td></tr><tr><th>3</th><td>../bal-data/final/problem-13682-4456117-pre.txt</td><td>4456117</td><td>13682</td><td>28987644</td></tr><tr><th>4</th><td>../bal-data/final/problem-3068-310854-pre.txt</td><td>310854</td><td>3068</td><td>1653812</td></tr><tr><th>5</th><td>../bal-data/ladybug/problem-1723-156502-pre.txt</td><td>156502</td><td>1723</td><td>678718</td></tr><tr><th>6</th><td>../bal-data/ladybug/problem-49-7776-pre.txt</td><td>7776</td><td>49</td><td>31843</td></tr><tr><th>7</th><td>../bal-data/trafalgar/problem-21-11315-pre.txt</td><td>11315</td><td>21</td><td>36455</td></tr><tr><th>8</th><td>../bal-data/trafalgar/problem-257-65132-pre.txt</td><td>65132</td><td>257</td><td>225911</td></tr><tr><th>9</th><td>../bal-data/venice/problem-1102-780462-pre.txt</td><td>780462</td><td>1102</td><td>4052340</td></tr><tr><th>10</th><td>../bal-data/venice/problem-1778-993923-pre.txt</td><td>993923</td><td>1778</td><td>5001946</td></tr><tr><th>11</th><td>../bal-data/venice/problem-52-64053-pre.txt</td><td>64053</td><td>52</td><td>347173</td></tr></tbody></table>"
      ],
      "text/latex": [
       "\\begin{tabular}{r|ccccc}\n",
       "\t& problem & points & cameras & observations & \\\\\n",
       "\t\\hline\n",
       "\t& String & Int64 & Int64 & Int64 & \\\\\n",
       "\t\\hline\n",
       "\t1 & ../bal-data/dubrovnik/problem-16-22106-pre.txt & 22106 & 16 & 83718 & $\\dots$ \\\\\n",
       "\t2 & ../bal-data/dubrovnik/problem-356-226730-pre.txt & 226730 & 356 & 1255268 & $\\dots$ \\\\\n",
       "\t3 & ../bal-data/final/problem-13682-4456117-pre.txt & 4456117 & 13682 & 28987644 & $\\dots$ \\\\\n",
       "\t4 & ../bal-data/final/problem-3068-310854-pre.txt & 310854 & 3068 & 1653812 & $\\dots$ \\\\\n",
       "\t5 & ../bal-data/ladybug/problem-1723-156502-pre.txt & 156502 & 1723 & 678718 & $\\dots$ \\\\\n",
       "\t6 & ../bal-data/ladybug/problem-49-7776-pre.txt & 7776 & 49 & 31843 & $\\dots$ \\\\\n",
       "\t7 & ../bal-data/trafalgar/problem-21-11315-pre.txt & 11315 & 21 & 36455 & $\\dots$ \\\\\n",
       "\t8 & ../bal-data/trafalgar/problem-257-65132-pre.txt & 65132 & 257 & 225911 & $\\dots$ \\\\\n",
       "\t9 & ../bal-data/venice/problem-1102-780462-pre.txt & 780462 & 1102 & 4052340 & $\\dots$ \\\\\n",
       "\t10 & ../bal-data/venice/problem-1778-993923-pre.txt & 993923 & 1778 & 5001946 & $\\dots$ \\\\\n",
       "\t11 & ../bal-data/venice/problem-52-64053-pre.txt & 64053 & 52 & 347173 & $\\dots$ \\\\\n",
       "\\end{tabular}\n"
      ],
      "text/plain": [
       "11×7 DataFrame. Omitted printing of 4 columns\n",
       "│ Row │ problem                                          │ points  │ cameras │\n",
       "│     │ \u001b[90mString\u001b[39m                                           │ \u001b[90mInt64\u001b[39m   │ \u001b[90mInt64\u001b[39m   │\n",
       "├─────┼──────────────────────────────────────────────────┼─────────┼─────────┤\n",
       "│ 1   │ ../bal-data/dubrovnik/problem-16-22106-pre.txt   │ 22106   │ 16      │\n",
       "│ 2   │ ../bal-data/dubrovnik/problem-356-226730-pre.txt │ 226730  │ 356     │\n",
       "│ 3   │ ../bal-data/final/problem-13682-4456117-pre.txt  │ 4456117 │ 13682   │\n",
       "│ 4   │ ../bal-data/final/problem-3068-310854-pre.txt    │ 310854  │ 3068    │\n",
       "│ 5   │ ../bal-data/ladybug/problem-1723-156502-pre.txt  │ 156502  │ 1723    │\n",
       "│ 6   │ ../bal-data/ladybug/problem-49-7776-pre.txt      │ 7776    │ 49      │\n",
       "│ 7   │ ../bal-data/trafalgar/problem-21-11315-pre.txt   │ 11315   │ 21      │\n",
       "│ 8   │ ../bal-data/trafalgar/problem-257-65132-pre.txt  │ 65132   │ 257     │\n",
       "│ 9   │ ../bal-data/venice/problem-1102-780462-pre.txt   │ 780462  │ 1102    │\n",
       "│ 10  │ ../bal-data/venice/problem-1778-993923-pre.txt   │ 993923  │ 1778    │\n",
       "│ 11  │ ../bal-data/venice/problem-52-64053-pre.txt      │ 64053   │ 52      │"
      ]
     },
     "execution_count": 116,
     "metadata": {},
     "output_type": "execute_result"
    }
   ],
   "source": [
    "df = map(glob(\"../bal-data/*/*.txt\")) do f\n",
    "    ba = readbal(f)\n",
    "    DataFrame(problem=f, points=num_points(ba), cameras=num_cameras(ba), observations=num_observations(ba), fillin=(nnz(visibility_graph(ba))*9^2)/((num_cameras(ba)*9)^2), matmul=break_even_matmul(ba), cg=break_even_cg(ba))\n",
    "end |> x -> vcat(x...)"
   ]
  },
  {
   "cell_type": "code",
   "execution_count": 127,
   "metadata": {},
   "outputs": [
    {
     "data": {
      "image/png": "[encoded data removed]"
     },
     "metadata": {},
     "output_type": "display_data"
    },
    {
     "data": {
      "text/plain": [
       "RObject{VecSxp}\n"
      ]
     },
     "execution_count": 127,
     "metadata": {},
     "output_type": "execute_result"
    }
   ],
   "source": [
    "R\"library(ggplot2);library(ggpmisc)\"\n",
    "R\"ggplot($df, aes(x=observations/points, y=fillin)) + geom_point() + scale_x_log10() + scale_y_log10() + geom_smooth(method = \\\"lm\\\") + stat_poly_eq(formula=y ~ x)\""
   ]
  },
  {
   "cell_type": "code",
   "execution_count": null,
   "metadata": {},
   "outputs": [],
   "source": []
  }
 ],
 "metadata": {
  "kernelspec": {
   "display_name": "Julia 1.2.0",
   "language": "julia",
   "name": "julia-1.2"
  },
  "language_info": {
   "file_extension": ".jl",
   "mimetype": "application/julia",
   "name": "julia",
   "version": "1.2.0"
  }
 },
 "nbformat": 4,
 "nbformat_minor": 2
}
