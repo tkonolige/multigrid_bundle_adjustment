{
 "cells": [
  {
   "cell_type": "code",
   "execution_count": 10,
   "metadata": {},
   "outputs": [
    {
     "name": "stderr",
     "output_type": "stream",
     "text": [
      "WARNING: using BALUtils.center in module Main conflicts with an existing identifier.\n"
     ]
    }
   ],
   "source": [
    "using PETScBinaryIO\n",
    "using SparseArrays\n",
    "using LinearAlgebra\n",
    "using Statistics\n",
    "using Makie\n",
    "using BALUtils\n",
    "using StaticArrays\n",
    "using Rotations"
   ]
  },
  {
   "cell_type": "code",
   "execution_count": 65,
   "metadata": {},
   "outputs": [
    {
     "data": {
      "text/plain": [
       "3×688 Array{Float64,2}:\n",
       " -0.612      1.7075    -0.37337  …   1.64179  -11.4278    1.52961  \n",
       "  0.571759   0.953869   1.53588      1.0337   -70.6587    0.0710439\n",
       " -1.84708   -6.87717   -4.78242     -9.01537  -50.6447  -11.3755   "
      ]
     },
     "execution_count": 65,
     "metadata": {},
     "output_type": "execute_result"
    }
   ],
   "source": [
    "J = readpetsc(\"../ba-tao/ladybug-3-jacobian.petsc\")[1]\n",
    "sol = readpetsc(\"../ba-tao/ladybug-3-solution.petsc\")[1]\n",
    "nc = 3\n",
    "np = div(length(sol) - nc*9, 3)\n",
    "poses = reshape(sol[1:nc*9], 9, :)\n",
    "points = reshape(sol[(nc*9+1):end], 3, :)"
   ]
  },
  {
   "cell_type": "code",
   "execution_count": 196,
   "metadata": {},
   "outputs": [
    {
     "data": {
      "text/plain": [
       "2091-element Array{Float64,1}:\n",
       "  -0.8921623584692526  \n",
       "  -0.5604241326483965  \n",
       "  -0.05050486974820462 \n",
       "   0.0                 \n",
       "   0.0                 \n",
       "   0.0                 \n",
       "   0.0                 \n",
       "   0.0                 \n",
       "   0.0                 \n",
       "  -0.9552824752439438  \n",
       "  -0.3595944451464225  \n",
       "  -0.060422334879157054\n",
       "   0.0                 \n",
       "   ⋮                   \n",
       "  -0.0                 \n",
       "   3.116068915049528   \n",
       "   1.0687720072751121  \n",
       "  -0.0                 \n",
       "   5.255174687722115   \n",
       "   0.8316850225260456  \n",
       "   0.0                 \n",
       "  46.884516252197436   \n",
       " -70.86074394027504    \n",
       "   0.0                 \n",
       "   7.615317190322091   \n",
       "  -0.13097113416065784 "
      ]
     },
     "execution_count": 196,
     "metadata": {},
     "output_type": "execute_result"
    }
   ],
   "source": [
    "# translation, rotation, and instrinsic parts of the poses\n",
    "trange = 4:6\n",
    "rrange = 1:3\n",
    "irange = 7:9\n",
    "\n",
    "function rodrigues_rotate(angle_axis, point)\n",
    "    theta = norm(angle_axis)\n",
    "    axis = normalize(angle_axis)\n",
    "    point * cos(theta) + cross(axis, point) * sin(theta) + axis * dot(axis, point) * (1 - cos(theta))\n",
    "end\n",
    "\n",
    "function camera_centers(poses)\n",
    "    ts = map(1:nc) do i\n",
    "        R = poses[rrange, i]\n",
    "        t = poses[trange, i]\n",
    "        - rodrigues_rotate(-R, t)\n",
    "    end\n",
    "    hcat(ts...)\n",
    "end\n",
    "\n",
    "center = mapslices(mean, hcat(camera_centers(poses), points), dims=2)[:]\n",
    "#center = mapslices(mean, camera_centers(poses), dims=2)[:]\n",
    "\n",
    "function linear_rotation_cameras(poses, axis, center)\n",
    "    f(x) = [x.sx,x.sy,x.sz]\n",
    "    ts = map(1:nc) do i\n",
    "        R = poses[rrange, i]\n",
    "        t = poses[trange, i]\n",
    "        alpha = norm(R)\n",
    "        r = R/alpha\n",
    "        a = axis\n",
    "        0.5*abs(csc(alpha/2))*(r*(-2*acos(cos(alpha/2))*cos(alpha/2)+sqrt(2-2*cos(alpha)))*dot(r,-a)+2*acos(cos(alpha/2))*(-a*cos(alpha/2)+cross(r,-a)*sin(alpha/2)))\n",
    "    end\n",
    "    rot = hcat(ts...)\n",
    "    vcat(rot, zeros(3, nc), zeros(3, nc))\n",
    "end\n",
    "\n",
    "function linear_rotation_points(points, axis, center)\n",
    "    mapslices(x -> cross(axis, x - center), points, dims=1)\n",
    "end\n",
    "\n",
    "x_rot = vcat(linear_rotation_cameras(poses, [1, 0, 0], center)[:], linear_rotation_points(points, [1, 0, 0], center)[:])\n",
    "y_rot = vcat(linear_rotation_cameras(poses, [0, 1, 0], center)[:], linear_rotation_points(points, [0, 1, 0], center)[:])\n",
    "z_rot = vcat(linear_rotation_cameras(poses, [0, 0, 1], center)[:], linear_rotation_points(points, [0, 0, 1], center)[:])\n",
    "\n",
    "function linear_translation_poses(poses, direction)\n",
    "    # Poses are transformations from the world into the camera plane\n",
    "    # expressed as Rx + t. We really want the camera center and its rotation.\n",
    "    # We can convert to center + rotation using c = -R^T t and back with t = -R * c.\n",
    "    ps = map(1:nc) do i\n",
    "        R = poses[rrange, i]\n",
    "        - rodrigues_rotate(R, direction[:, i])\n",
    "    end\n",
    "    hcat(ps...)\n",
    "end\n",
    "\n",
    "function scaling_poses(poses, center)\n",
    "    # c = -R' t\n",
    "    # -R (c - center)\n",
    "    # t + R center\n",
    "    ps = map(1:nc) do i\n",
    "        R = poses[rrange, i]\n",
    "        poses[trange, i] + rodrigues_rotate(R, center)\n",
    "    end\n",
    "    hcat(ps...)\n",
    "end\n",
    "\n",
    "x_trans = vcat(vcat(zeros(3, nc), linear_translation_poses(poses, [1, 0, 0] .+ 0 * poses[trange, :]), zeros(3, nc))[:], vcat(ones(1, np), zeros(2, np))[:])\n",
    "y_trans = vcat(vcat(zeros(3, nc), linear_translation_poses(poses, [0, 1, 0] .+ 0 * poses[trange, :]), zeros(3, nc))[:], vcat(zeros(1, np), ones(1, np), zeros(1, np))[:])\n",
    "z_trans = vcat(vcat(zeros(3, nc), linear_translation_poses(poses, [0, 0, 1] .+ 0 * poses[trange, :]), zeros(3, nc))[:], vcat(zeros(2, np), ones(1, np))[:])\n",
    "\n",
    "scaling = vcat(vcat(zeros(3, nc), scaling_poses(poses, center), zeros(3, nc))[:], (points .- center)[:])\n",
    "\n",
    "x_rot"
   ]
  },
  {
   "cell_type": "code",
   "execution_count": 200,
   "metadata": {},
   "outputs": [
    {
     "data": {
      "text/plain": [
       "-1596.523727399869"
      ]
     },
     "execution_count": 200,
     "metadata": {},
     "output_type": "execute_result"
    }
   ],
   "source": [
    "norm(J * x_rot)\n",
    "a = 1:nc*9\n",
    "b = (nc*9+1):length(sol)\n",
    "H = J' * J\n",
    "S = H[a,a] - H[a,b] * inv(Array(H[b,b])) * H[b,a]\n",
    "dot(x_trans[1:nc*9], scaling[1:nc*9])\n",
    "norm(S * scaling[a])\n",
    "dot(x_rot, y_rot)"
   ]
  },
  {
   "cell_type": "code",
   "execution_count": 78,
   "metadata": {},
   "outputs": [
    {
     "data": {
      "text/plain": [
       "3×3 Array{Float64,2}:\n",
       " 0.0         0.0         0.0       \n",
       " 9.94279e-5  9.92858e-5  9.95247e-5\n",
       " 8.15048e-6  4.97856e-6  8.26463e-6"
      ]
     },
     "execution_count": 78,
     "metadata": {},
     "output_type": "execute_result"
    }
   ],
   "source": [
    "function draw_diff!(scene :: Scene, initial :: Array, change :: Array, scale :: Float64; kwargs...)\n",
    "    moved = initial .+ change * scale\n",
    "    paired = reshape(vcat(initial, moved), size(initial,1), :)\n",
    "    linesegments!(scene, paired[1,:], paired[2,:], paired[3,:], transparency=true; kwargs...)\n",
    "end\n",
    "\n",
    "ts = map(1:nc) do i\n",
    "    R = poses[rrange, i]\n",
    "    t = reshape(x_rot[1:nc*9], 9, :)[trange, i]\n",
    "    - rodrigues_rotate(-R, t)\n",
    "end\n",
    "x_rot_ = hcat(ts...)\n",
    "\n",
    "scene = Scene()\n",
    "\n",
    "mag = 1e-8\n",
    "\n",
    "cameras = mapslices(x -> BALUtils.Camera(x), poses, dims=1)\n",
    "centers = hcat(Vector.(BALUtils.center.(cameras))...)\n",
    "centers_rot = mapslices(x -> RotX(mag) * x, centers, dims=1)\n",
    "rots = mapslices(x -> rodrigues_rotate([1,0,0] * 1e-4, rodrigues_rotate(x, [0,0,-1])), -poses[rrange, :], dims=1)\n",
    "rots_old = mapslices(x -> rodrigues_rotate(x, [0,0,-1]), -poses[rrange, :], dims=1)\n",
    "\n",
    "draw_diff!(scene, centers_rot, rots, 1.0)\n",
    "draw_diff!(scene, centers, rots_old, 1.0, color=:green)\n",
    "scatter!(scene, centers[1,:], centers[2,:], centers[3,:], color=:blue, transparency=true)\n",
    "scatter!(scene, centers_rot[1,:], centers_rot[2,:], centers_rot[3,:], color=:red, transparency=true)\n",
    "scatter!(scene, [0], [0], [0], transparency=true)\n",
    "rots - rots_old"
   ]
  },
  {
   "cell_type": "code",
   "execution_count": 128,
   "metadata": {},
   "outputs": [
    {
     "data": {
      "text/plain": [
       "\"Difference between approximation and analytical for translation for rotation\""
      ]
     },
     "metadata": {},
     "output_type": "display_data"
    },
    {
     "data": {
      "text/plain": [
       "5.170206103521924e-11"
      ]
     },
     "metadata": {},
     "output_type": "display_data"
    }
   ],
   "source": [
    "ts = map(1:nc) do i\n",
    "    R = poses[rrange, i]\n",
    "    t = poses[trange, i]\n",
    "    c = - rodrigues_rotate(-R, t)\n",
    "    c_rot = RotX(mag) * c\n",
    "    - rodrigues_rotate(R, c_rot - c)\n",
    "end\n",
    "rtdiff = hcat(ts...)\n",
    "\n",
    "axis = [1,0,0]\n",
    "ts = map(1:nc) do i\n",
    "    R = poses[rrange, i]\n",
    "    t = poses[trange, i]\n",
    "    # c = - R^T t\n",
    "    c = - rodrigues_rotate(-R, t)\n",
    "    -rodrigues_rotate(R, cross(axis, c))\n",
    "end\n",
    "analytical = hcat(ts...)\n",
    "analytical = analytical \n",
    "\n",
    "lrt = linear_rotation_cameras(poses, [1,0,0], [0,0,0])[trange,:]\n",
    "\n",
    "display(\"Difference between approximation and analytical for translation for rotation\")\n",
    "display(maximum(abs.(rtdiff/mag - lrt)))\n",
    "\n",
    "#scene = Scene()\n",
    "#draw_diff!(scene, centers, diff, 1.0)\n",
    "#draw_diff!(scene, centers, analytical, 1.0, color=:green)\n",
    "#scatter!(scene, centers[1,:], centers[2,:], centers[3,:], color=:blue, transparency=true)"
   ]
  },
  {
   "cell_type": "code",
   "execution_count": 129,
   "metadata": {},
   "outputs": [
    {
     "data": {
      "text/plain": [
       "\"Difference between aproximation and analytical for rotations\""
      ]
     },
     "metadata": {},
     "output_type": "display_data"
    },
    {
     "data": {
      "text/plain": [
       "1.941149246897922e-8"
      ]
     },
     "metadata": {},
     "output_type": "display_data"
    },
    {
     "data": {
      "text/plain": [
       "\"Difference between approximation and analytical for points\""
      ]
     },
     "metadata": {},
     "output_type": "display_data"
    },
    {
     "data": {
      "text/plain": [
       "4.5389752045821297e-7"
      ]
     },
     "metadata": {},
     "output_type": "display_data"
    }
   ],
   "source": [
    "f(x) = [x.sx, x.sy, x.sz]\n",
    "rvec = RotX(mag)\n",
    "ts = map(1:nc) do i\n",
    "    # Composing two rodrigues vectors\n",
    "    R = poses[rrange, i]\n",
    "    alpha = norm(R)\n",
    "    beta = norm(f(RodriguesVec(rvec)))\n",
    "    r = R/alpha\n",
    "    a = -f(RodriguesVec(rvec))/beta\n",
    "    gamma = 2 * acos(cos(alpha/2)*cos(beta/2)-sin(alpha/2)*sin(beta/2)*dot(r,a))\n",
    "    x = (sin(alpha/2)*cos(beta/2)*r+cos(alpha/2)*sin(beta/2)*a+sin(alpha/2)*sin(beta/2)*cross(r,a))/sin(gamma/2)\n",
    "    # gamma * x is the new rodrigues vector\n",
    "    gamma * x - f(RodriguesVec(R...))\n",
    "end\n",
    "rdiff = hcat(ts...)\n",
    "lrc = linear_rotation_cameras(poses, [1,0,0], [0,0,0])[rrange,:]\n",
    "display(\"Difference between aproximation and analytical for rotations\")\n",
    "display(maximum(abs.(lrc - rdiff/mag)))\n",
    "\n",
    "rvec = RotX(mag)\n",
    "pdiff = mapslices(p -> rvec * p, points, dims=1) - points\n",
    "lr = linear_rotation_points(points, [1,0,0], [0,0,0])\n",
    "display(\"Difference between approximation and analytical for points\")\n",
    "# display(pdiff/mag - lr)\n",
    "display(maximum(abs.(lr - pdiff/mag)))"
   ]
  },
  {
   "cell_type": "code",
   "execution_count": 133,
   "metadata": {},
   "outputs": [
    {
     "name": "stdout",
     "output_type": "stream",
     "text": [
      "norm(x_rot - x_rot_diff / mag) = 7.523217400056974e-7\n",
      "norm(J * (x_rot_diff / mag)) = 60.48915467426319\n",
      "norm(J * x_rot) = 60.48916960930573\n",
      "norm(x_rot_diff) = 1.5833520174483587e-6\n",
      "norm(x_rot) = 158.33520170217636\n"
     ]
    }
   ],
   "source": [
    "x_rot_diff = vcat(vcat(rdiff, rtdiff, zeros(3, nc))[:], pdiff[:])\n",
    "x_rot = vcat(linear_rotation_cameras(poses, [1, 0, 0], [0,0,0])[:], linear_rotation_points(points, [1, 0, 0], [0,0,0])[:])\n",
    "@show norm(x_rot - x_rot_diff/mag)\n",
    "@show norm(J * (x_rot_diff/mag))\n",
    "@show norm(J * x_rot)\n",
    "@show(norm(x_rot_diff))\n",
    "@show(norm(x_rot))\n",
    ";"
   ]
  },
  {
   "cell_type": "code",
   "execution_count": 39,
   "metadata": {},
   "outputs": [
    {
     "data": {
      "text/plain": [
       "SVD{Float64,Float64,Array{Float64,2}}([0.0175887 0.0364161 … -0.033683 0.154765; 0.0341418 -0.0137461 … -0.0812019 0.373101; … ; 4.16692e-6 2.11099e-5 … 0.00477679 0.00637908; 1.58109e-5 -6.0465e-6 … 0.0061588 0.00822465], [11391.5, 10653.2, 10112.2, 10050.0, 9733.14, 9185.16, 6413.95, 4950.32, 4278.46, 3823.19  …  0.00920695, 0.000537009, 0.000143769, 5.0914e-12, 3.49835e-12, 1.03934e-12, 1.02684e-12, 5.41843e-13, 3.85895e-13, 1.49692e-13], [0.516153 -0.808483 … -4.03126e-9 1.72069e-8; -0.80402 -0.50064 … -1.2561e-7 7.61335e-10; … ; 0.0 -0.00076416 … 0.0308486 -0.00115703; 0.0 0.000228222 … 0.0176778 0.0314134])"
      ]
     },
     "execution_count": 39,
     "metadata": {},
     "output_type": "execute_result"
    }
   ],
   "source": [
    "S = svd(Array(J))"
   ]
  },
  {
   "cell_type": "code",
   "execution_count": 94,
   "metadata": {},
   "outputs": [
    {
     "data": {
      "text/plain": [
       "\"Condition number including near null space\""
      ]
     },
     "metadata": {},
     "output_type": "display_data"
    },
    {
     "data": {
      "text/plain": [
       "7.609939746577538e16"
      ]
     },
     "execution_count": 94,
     "metadata": {},
     "output_type": "execute_result"
    }
   ],
   "source": [
    "display(\"Condition number including near null space\")\n",
    "S.S[1]/S.S[end]"
   ]
  },
  {
   "cell_type": "code",
   "execution_count": 166,
   "metadata": {},
   "outputs": [
    {
     "data": {
      "text/plain": [
       "8×8 Array{Float64,2}:\n",
       " 1.0  -1.19522e-15  -1.11148e-16  -2.7787e-17   …  -2.7787e-17     2.3429    \n",
       " 0.0  -1.0          -2.60209e-18   3.72966e-17      1.0617e-16   -84.6639    \n",
       " 0.0   0.0           1.0          -4.21538e-16      2.77556e-17  -41.9554    \n",
       " 0.0   0.0           0.0           1.0             -3.95734e-18   87.0748    \n",
       " 0.0   0.0           0.0           0.0              2.05565e-16   35.227     \n",
       " 0.0   0.0           0.0           0.0          …  -1.21864e-16   84.4709    \n",
       " 0.0   0.0           0.0           0.0              1.0           13.3431    \n",
       " 0.0   0.0           0.0           0.0              0.0            1.41804e-8"
      ]
     },
     "metadata": {},
     "output_type": "display_data"
    },
    {
     "data": {
      "text/plain": [
       "2091-element Array{Float64,1}:\n",
       "  0.0004882948611869367 \n",
       "  0.00012059948557952478\n",
       "  4.2360814875886394e-5 \n",
       " -0.0006661324796943981 \n",
       " -0.008905942506410114  \n",
       "  0.04381683281243792   \n",
       " -0.024270290518752746  \n",
       " -2.333122054709591e-5  \n",
       "  1.406424575174899e-6  \n",
       "  0.00048615198502544076\n",
       "  1.7496187511777532e-5 \n",
       "  4.339551681403325e-5  \n",
       " -0.004535707750141106  \n",
       "  ⋮                     \n",
       " -0.012589092318768005  \n",
       " -0.010674691050582684  \n",
       "  0.034611868329846265  \n",
       " -0.014314819685900879  \n",
       " -0.008651810584847545  \n",
       "  0.05674750354879433   \n",
       "  0.018848225218485334  \n",
       "  0.11891931856109415   \n",
       "  0.09204805601860871   \n",
       " -0.012525728384303799  \n",
       "  0.0010514791182385645 \n",
       "  0.07700060170620902   "
      ]
     },
     "metadata": {},
     "output_type": "display_data"
    },
    {
     "data": {
      "image/png": "[encoded data removed]",
      "text/plain": [
       "Scene (960px, 540px):\n",
       "events:\n",
       "    window_area: GeometryTypes.HyperRectangle{2,Int64}([0, 0], [0, 0])\n",
       "    window_dpi: 100.0\n",
       "    window_open: false\n",
       "    mousebuttons: Set(AbstractPlotting.Mouse.Button[])\n",
       "    mouseposition: (0.0, 0.0)\n",
       "    mousedrag: notpressed\n",
       "    scroll: (0.0, 0.0)\n",
       "    keyboardbuttons: Set(AbstractPlotting.Keyboard.Button[])\n",
       "    unicode_input: Char[]\n",
       "    dropped_files: String[]\n",
       "    hasfocus: false\n",
       "    entered_window: false\n",
       "plots:\n",
       "   *Axis3D{...}\n",
       "   *LineSegments{...}\n",
       "   *LineSegments{...}\n",
       "   *LineSegments{...}\n",
       "   *Scatter{...}\n",
       "   *Scatter{...}\n",
       "subscenes:"
      ]
     },
     "execution_count": 166,
     "metadata": {},
     "output_type": "execute_result"
    }
   ],
   "source": [
    "Q, R = qr(hcat(S.V[:,end-6:end], x_rot))\n",
    "display(R)\n",
    "v = Q[:, 8]\n",
    "display(v)\n",
    "r = reshape(v[1:nc*9], 9, :)\n",
    "t = reshape(v[(nc*9+1):end], 3, :)\n",
    "cts = map(1:nc) do i\n",
    "    R = poses[rrange, i]\n",
    "    - rodrigues_rotate(-R, r[trange, i])\n",
    "end\n",
    "ct = hcat(cts...)\n",
    "\n",
    "x_rot_ = reshape(x_rot[1:nc*9], 9, :)\n",
    "ct2s = map(1:nc) do i\n",
    "    R = poses[rrange, i]\n",
    "    - rodrigues_rotate(-R, x_rot_[trange, i])\n",
    "end\n",
    "ct2 = hcat(ct2s...)\n",
    "scene = Scene()\n",
    "draw_diff!(scene, centers, ct, 1.0, color=:black)\n",
    "draw_diff!(scene, centers, ct2, 1.0, color=:orange)\n",
    "draw_diff!(scene, points, t, 1.0, color=:red)\n",
    "scatter!(scene, centers[1,:], centers[2,:], centers[3,:], markersize=0.1, color=:blue, transparency=true)\n",
    "scatter!(scene, points[1,:], points[2,:], points[3,:], markersize=0.1, color=:green, transparency=true)"
   ]
  }
 ],
 "metadata": {
  "kernelspec": {
   "display_name": "Julia 1.3.0",
   "language": "julia",
   "name": "julia-1.3"
  },
  "language_info": {
   "file_extension": ".jl",
   "mimetype": "application/julia",
   "name": "julia",
   "version": "1.3.0"
  }
 },
 "nbformat": 4,
 "nbformat_minor": 2
}
